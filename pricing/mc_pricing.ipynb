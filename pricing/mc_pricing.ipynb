{
 "cells":[
  {
   "cell_type":"code",
   "source":[
    "import pandas as pd\n",
    "import numpy as np\n",
    "import seaborn as sns\n",
    "from datetime import datetime\n",
    "import matplotlib.pyplot as plt\n",
    "from pandas.tseries.offsets import DateOffset"
   ],
   "execution_count":1,
   "outputs":[
    
   ],
   "metadata":{
    "datalore":{
     "node_id":"U2tS6MCjV9p8sUUbgqLvIh",
     "type":"CODE",
     "hide_input_from_viewers":false,
     "hide_output_from_viewers":false,
     "report_properties":{
      
     }
    }
   }
  },
  {
   "cell_type":"markdown",
   "source":[
    "## estimate parameters from loans"
   ],
   "attachments":{
    
   },
   "metadata":{
    "datalore":{
     "node_id":"KQfTzG0HWxX14CvEKhe0oK",
     "type":"MD",
     "hide_input_from_viewers":false,
     "hide_output_from_viewers":false,
     "report_properties":{
      
     }
    }
   }
  },
  {
   "cell_type":"code",
   "source":[
    "data_dir = '\/data\/workspace_files\/'\n",
    "nft_data_path = data_dir+'NFT+Updated+data.csv'\n",
    "whitelist_path = data_dir+'Whitelist - Sheet1.csv'\n",
    "\n",
    "nft_data = pd.read_csv(nft_data_path, index_col=0)\n",
    "whitelist = pd.read_csv(whitelist_path)"
   ],
   "execution_count":2,
   "outputs":[
    
   ],
   "metadata":{
    "datalore":{
     "node_id":"xizR8f7usEDCtCaLWzIJkP",
     "type":"CODE",
     "hide_input_from_viewers":false,
     "hide_output_from_viewers":false,
     "report_properties":{
      
     }
    }
   }
  },
  {
   "cell_type":"code",
   "source":[
    "nft_data"
   ],
   "execution_count":3,
   "outputs":[
    {
     "data":{
      "text\/html":[
       "<div>\n",
       "<style scoped>\n",
       "    .dataframe tbody tr th:only-of-type {\n",
       "        vertical-align: middle;\n",
       "    }\n",
       "\n",
       "    .dataframe tbody tr th {\n",
       "        vertical-align: top;\n",
       "    }\n",
       "\n",
       "    .dataframe thead th {\n",
       "        text-align: right;\n",
       "    }\n",
       "<\/style>\n",
       "<table border=\"1\" class=\"dataframe\">\n",
       "  <thead>\n",
       "    <tr style=\"text-align: right;\">\n",
       "      <th><\/th>\n",
       "      <th>loanStartTime<\/th>\n",
       "      <th>loanDueTime<\/th>\n",
       "      <th>asset_contract<\/th>\n",
       "      <th>item_no<\/th>\n",
       "      <th>status<\/th>\n",
       "      <th>loanPrincipalAmount<\/th>\n",
       "      <th>amountPaidToLender<\/th>\n",
       "      <th>APR<\/th>\n",
       "      <th>loanDuration<\/th>\n",
       "      <th>lender<\/th>\n",
       "      <th>borrower<\/th>\n",
       "      <th>assetCategory<\/th>\n",
       "      <th>loanERC20Denomination<\/th>\n",
       "      <th>slug<\/th>\n",
       "      <th>starting_valuation<\/th>\n",
       "      <th>ending_valuation<\/th>\n",
       "      <th>LTV<\/th>\n",
       "    <\/tr>\n",
       "  <\/thead>\n",
       "  <tbody>\n",
       "    <tr>\n",
       "      <th>1063<\/th>\n",
       "      <td>2021-09-02 01:24:42<\/td>\n",
       "      <td>2021-10-02 01:24:42<\/td>\n",
       "      <td>0xa3aee8bce55beea1951ef834b99f3ac60d1abeeb<\/td>\n",
       "      <td>2232<\/td>\n",
       "      <td>repaid<\/td>\n",
       "      <td>10.000<\/td>\n",
       "      <td>11.520000<\/td>\n",
       "      <td>194.67<\/td>\n",
       "      <td>30.0<\/td>\n",
       "      <td>0xf542443cd8f4b18578aa7f2b647676a9c41914b3<\/td>\n",
       "      <td>0xed50b7114a69c69cbbb9a38d234d1514fd952413<\/td>\n",
       "      <td>VeeFriends<\/td>\n",
       "      <td>0xc02aaa39b223fe8d0a0e5c4f27ead9083c756cc2<\/td>\n",
       "      <td>veefriends<\/td>\n",
       "      <td>11.5555<\/td>\n",
       "      <td>14.590<\/td>\n",
       "      <td>0.865389<\/td>\n",
       "    <\/tr>\n",
       "    <tr>\n",
       "      <th>1076<\/th>\n",
       "      <td>2021-09-02 18:36:45<\/td>\n",
       "      <td>2021-10-02 18:36:45<\/td>\n",
       "      <td>0x905b180268f2773022e1a10e204b0858b2e60dcf<\/td>\n",
       "      <td>1466040470<\/td>\n",
       "      <td>repaid<\/td>\n",
       "      <td>5.000<\/td>\n",
       "      <td>5.380000<\/td>\n",
       "      <td>97.33<\/td>\n",
       "      <td>30.0<\/td>\n",
       "      <td>0xf542443cd8f4b18578aa7f2b647676a9c41914b3<\/td>\n",
       "      <td>0xe74ca58ef724b94fac7f2e09e2e48536a5c1ad03<\/td>\n",
       "      <td>Pulsquares<\/td>\n",
       "      <td>0xc02aaa39b223fe8d0a0e5c4f27ead9083c756cc2<\/td>\n",
       "      <td>pulsquares<\/td>\n",
       "      <td>22.0000<\/td>\n",
       "      <td>8.500<\/td>\n",
       "      <td>0.227273<\/td>\n",
       "    <\/tr>\n",
       "    <tr>\n",
       "      <th>1086<\/th>\n",
       "      <td>2021-09-03 09:55:36<\/td>\n",
       "      <td>2021-09-10 09:55:36<\/td>\n",
       "      <td>0xa3aee8bce55beea1951ef834b99f3ac60d1abeeb<\/td>\n",
       "      <td>3466<\/td>\n",
       "      <td>repaid<\/td>\n",
       "      <td>5.500<\/td>\n",
       "      <td>5.580165<\/td>\n",
       "      <td>80.00<\/td>\n",
       "      <td>7.0<\/td>\n",
       "      <td>0x88abb547673b28b89ac72b7c0dc1627d3f12b4d0<\/td>\n",
       "      <td>0x3f015b37cd324d3cbaaa075a75f8f0a9afeb04e1<\/td>\n",
       "      <td>VeeFriends<\/td>\n",
       "      <td>0xc02aaa39b223fe8d0a0e5c4f27ead9083c756cc2<\/td>\n",
       "      <td>veefriends<\/td>\n",
       "      <td>13.8900<\/td>\n",
       "      <td>13.890<\/td>\n",
       "      <td>0.395968<\/td>\n",
       "    <\/tr>\n",
       "    <tr>\n",
       "      <th>1110<\/th>\n",
       "      <td>2021-09-09 12:20:39<\/td>\n",
       "      <td>2021-10-09 12:20:39<\/td>\n",
       "      <td>0x905b180268f2773022e1a10e204b0858b2e60dcf<\/td>\n",
       "      <td>3691774315<\/td>\n",
       "      <td>repaid<\/td>\n",
       "      <td>5.475<\/td>\n",
       "      <td>6.045000<\/td>\n",
       "      <td>133.33<\/td>\n",
       "      <td>30.0<\/td>\n",
       "      <td>0xf542443cd8f4b18578aa7f2b647676a9c41914b3<\/td>\n",
       "      <td>0xe74ca58ef724b94fac7f2e09e2e48536a5c1ad03<\/td>\n",
       "      <td>Pulsquares<\/td>\n",
       "      <td>0xc02aaa39b223fe8d0a0e5c4f27ead9083c756cc2<\/td>\n",
       "      <td>pulsquares<\/td>\n",
       "      <td>16.8500<\/td>\n",
       "      <td>7.850<\/td>\n",
       "      <td>0.324926<\/td>\n",
       "    <\/tr>\n",
       "    <tr>\n",
       "      <th>1125<\/th>\n",
       "      <td>2021-09-14 13:45:22<\/td>\n",
       "      <td>2021-09-21 13:45:22<\/td>\n",
       "      <td>0x85f740958906b317de6ed79663012859067e745b<\/td>\n",
       "      <td>2171<\/td>\n",
       "      <td>liquidated<\/td>\n",
       "      <td>0.200<\/td>\n",
       "      <td>0.000000<\/td>\n",
       "      <td>0.00<\/td>\n",
       "      <td>7.0<\/td>\n",
       "      <td>0x1b02eab42a1004a6210428c5740fcf0cbcb5ca6e<\/td>\n",
       "      <td>0x752184a2069c35f03d0216ba806013693740b285<\/td>\n",
       "      <td>TheWickedCraniums<\/td>\n",
       "      <td>0xc02aaa39b223fe8d0a0e5c4f27ead9083c756cc2<\/td>\n",
       "      <td>thewickedcraniums<\/td>\n",
       "      <td>0.2500<\/td>\n",
       "      <td>0.350<\/td>\n",
       "      <td>0.800000<\/td>\n",
       "    <\/tr>\n",
       "    <tr>\n",
       "      <th>...<\/th>\n",
       "      <td>...<\/td>\n",
       "      <td>...<\/td>\n",
       "      <td>...<\/td>\n",
       "      <td>...<\/td>\n",
       "      <td>...<\/td>\n",
       "      <td>...<\/td>\n",
       "      <td>...<\/td>\n",
       "      <td>...<\/td>\n",
       "      <td>...<\/td>\n",
       "      <td>...<\/td>\n",
       "      <td>...<\/td>\n",
       "      <td>...<\/td>\n",
       "      <td>...<\/td>\n",
       "      <td>...<\/td>\n",
       "      <td>...<\/td>\n",
       "      <td>...<\/td>\n",
       "      <td>...<\/td>\n",
       "    <\/tr>\n",
       "    <tr>\n",
       "      <th>24860<\/th>\n",
       "      <td>2023-01-16 15:14:23<\/td>\n",
       "      <td>2023-02-15 15:14:23<\/td>\n",
       "      <td>0x80336ad7a747236ef41f47ed2c7641828a480baa<\/td>\n",
       "      <td>1922<\/td>\n",
       "      <td>escrow<\/td>\n",
       "      <td>0.800<\/td>\n",
       "      <td>0.000000<\/td>\n",
       "      <td>79.00<\/td>\n",
       "      <td>30.0<\/td>\n",
       "      <td>0x5b20dce335d131c6de0cc11b481ace2aade788df<\/td>\n",
       "      <td>0x77182f4f182432945b520e054d3a7b5ab2a83e22<\/td>\n",
       "      <td>Chimpers<\/td>\n",
       "      <td>0xc02aaa39b223fe8d0a0e5c4f27ead9083c756cc2<\/td>\n",
       "      <td>chimpersnft<\/td>\n",
       "      <td>1.6950<\/td>\n",
       "      <td>1.695<\/td>\n",
       "      <td>0.471976<\/td>\n",
       "    <\/tr>\n",
       "    <tr>\n",
       "      <th>24862<\/th>\n",
       "      <td>2023-01-16 15:46:11<\/td>\n",
       "      <td>2023-01-30 15:46:11<\/td>\n",
       "      <td>0x49cf6f5d44e70224e2e23fdcdd2c053f30ada28b<\/td>\n",
       "      <td>8800<\/td>\n",
       "      <td>escrow<\/td>\n",
       "      <td>9.000<\/td>\n",
       "      <td>0.000000<\/td>\n",
       "      <td>50.00<\/td>\n",
       "      <td>14.0<\/td>\n",
       "      <td>0x503c284ca2aee317426642a697eeb09f1feccf41<\/td>\n",
       "      <td>0x031df53cb282498278f9974749642869f3ee2ba3<\/td>\n",
       "      <td>CLONE X - X TAKASHI MURAKAMI<\/td>\n",
       "      <td>0xc02aaa39b223fe8d0a0e5c4f27ead9083c756cc2<\/td>\n",
       "      <td>clonex<\/td>\n",
       "      <td>5.7500<\/td>\n",
       "      <td>5.750<\/td>\n",
       "      <td>1.565217<\/td>\n",
       "    <\/tr>\n",
       "    <tr>\n",
       "      <th>24863<\/th>\n",
       "      <td>2023-01-16 15:54:11<\/td>\n",
       "      <td>2023-02-15 15:54:11<\/td>\n",
       "      <td>0x49cf6f5d44e70224e2e23fdcdd2c053f30ada28b<\/td>\n",
       "      <td>3989<\/td>\n",
       "      <td>escrow<\/td>\n",
       "      <td>4.511<\/td>\n",
       "      <td>0.000000<\/td>\n",
       "      <td>38.00<\/td>\n",
       "      <td>30.0<\/td>\n",
       "      <td>0xf3bbcda1c73281e461d2a3388ffa03807b3f98a2<\/td>\n",
       "      <td>0x77182f4f182432945b520e054d3a7b5ab2a83e22<\/td>\n",
       "      <td>CLONE X - X TAKASHI MURAKAMI<\/td>\n",
       "      <td>0xc02aaa39b223fe8d0a0e5c4f27ead9083c756cc2<\/td>\n",
       "      <td>clonex<\/td>\n",
       "      <td>5.7500<\/td>\n",
       "      <td>5.750<\/td>\n",
       "      <td>0.784522<\/td>\n",
       "    <\/tr>\n",
       "    <tr>\n",
       "      <th>24864<\/th>\n",
       "      <td>2023-01-16 16:36:11<\/td>\n",
       "      <td>2023-02-15 16:36:11<\/td>\n",
       "      <td>0xccc441ac31f02cd96c153db6fd5fe0a2f4e6a68d<\/td>\n",
       "      <td>2440<\/td>\n",
       "      <td>escrow<\/td>\n",
       "      <td>1.700<\/td>\n",
       "      <td>0.000000<\/td>\n",
       "      <td>35.00<\/td>\n",
       "      <td>30.0<\/td>\n",
       "      <td>0xa76b00d8fe77807edc51a87dbceabb623701d9d7<\/td>\n",
       "      <td>0x50fec23ffb143fd9b71ed11337b2b04c1a35f5d5<\/td>\n",
       "      <td>FLUF World<\/td>\n",
       "      <td>0xc02aaa39b223fe8d0a0e5c4f27ead9083c756cc2<\/td>\n",
       "      <td>fluf<\/td>\n",
       "      <td>3.0900<\/td>\n",
       "      <td>3.090<\/td>\n",
       "      <td>0.550162<\/td>\n",
       "    <\/tr>\n",
       "    <tr>\n",
       "      <th>24866<\/th>\n",
       "      <td>2023-01-16 16:46:47<\/td>\n",
       "      <td>2023-02-15 16:46:47<\/td>\n",
       "      <td>0x5cc5b05a8a13e3fbdb0bb9fccd98d38e50f90c38<\/td>\n",
       "      <td>95255<\/td>\n",
       "      <td>escrow<\/td>\n",
       "      <td>0.700<\/td>\n",
       "      <td>0.000000<\/td>\n",
       "      <td>50.00<\/td>\n",
       "      <td>30.0<\/td>\n",
       "      <td>0x31d75becb2fe9cc60eb4877b44110aa1cdae90a5<\/td>\n",
       "      <td>0x890c7aede8d6b045ad982b3d2524b627e995af18<\/td>\n",
       "      <td>The Sandbox<\/td>\n",
       "      <td>0xc02aaa39b223fe8d0a0e5c4f27ead9083c756cc2<\/td>\n",
       "      <td>sandbox<\/td>\n",
       "      <td>0.9100<\/td>\n",
       "      <td>0.910<\/td>\n",
       "      <td>0.769231<\/td>\n",
       "    <\/tr>\n",
       "  <\/tbody>\n",
       "<\/table>\n",
       "<p>12758 rows × 17 columns<\/p>\n",
       "<\/div>"
      ]
     },
     "metadata":{
      
     },
     "output_type":"display_data"
    }
   ],
   "metadata":{
    "datalore":{
     "node_id":"Ch5HySXcYyLVV1R2xoQYOK",
     "type":"CODE",
     "hide_input_from_viewers":false,
     "hide_output_from_viewers":false,
     "report_properties":{
      
     }
    }
   }
  },
  {
   "cell_type":"code",
   "source":[
    "nft_data.columns"
   ],
   "execution_count":4,
   "outputs":[
    {
     "data":{
      "text\/plain":[
       "Index(['loanStartTime', 'loanDueTime', 'asset_contract', 'item_no', 'status',\n",
       "       'loanPrincipalAmount', 'amountPaidToLender', 'APR', 'loanDuration',\n",
       "       'lender', 'borrower', 'assetCategory', 'loanERC20Denomination', 'slug',\n",
       "       'starting_valuation', 'ending_valuation', 'LTV'],\n",
       "      dtype='object')"
      ]
     },
     "metadata":{
      
     },
     "output_type":"display_data"
    }
   ],
   "metadata":{
    "datalore":{
     "node_id":"HtXsgtyRRS1vjoS6dBp1S5",
     "type":"CODE",
     "hide_input_from_viewers":false,
     "hide_output_from_viewers":false,
     "report_properties":{
      
     }
    }
   }
  },
  {
   "cell_type":"markdown",
   "source":[
    "## unique identifier"
   ],
   "attachments":{
    
   },
   "metadata":{
    "datalore":{
     "node_id":"szUxsmzlSOdeXfYrDh5tls",
     "type":"MD",
     "hide_input_from_viewers":false,
     "hide_output_from_viewers":false,
     "report_properties":{
      
     }
    }
   }
  },
  {
   "cell_type":"code",
   "source":[
    "counts = nft_data.groupby(['asset_contract', 'item_no', 'lender', 'loanStartTime', 'loanDueTime'])['loanStartTime'].count()\n",
    "print(counts[counts!=1].count())\n",
    "counts[counts!=1]"
   ],
   "execution_count":5,
   "outputs":[
    {
     "name":"stdout",
     "text":[
      "8\n"
     ],
     "output_type":"stream"
    },
    {
     "data":{
      "text\/html":[
       "<pre>asset_contract                              item_no  lender                                      loanStartTime        loanDueTime        \n",
       "0x60e4d786628fea6478f785a6d7e704777c86a7c6  15518    0x818ec19ebe023b4774799fdb39f0b20af39571fe  2023-01-11 14:01:47  2023-01-18 14:01:47    2\n",
       "                                            25726    0x0aff497bd016000185b1c8302fa98a88ff4a4178  2022-03-24 20:03:40  2022-04-07 20:03:40    2\n",
       "0x6e9da81ce622fb65abf6a8d8040e460ff2543add  449      0xa728ada3eb99f9fe120c2014d2095784bd7f6cd4  2022-12-30 13:01:59  2023-01-29 13:01:59    2\n",
       "                                            465      0xa728ada3eb99f9fe120c2014d2095784bd7f6cd4  2022-12-30 13:00:47  2023-01-29 13:00:47    2\n",
       "0xbce3781ae7ca1a5e050bd9c4c77369867ebc307e  8177     0x5d6cacdea4d2c64ae9f966e4e2ff027e82890701  2022-09-24 11:56:23  2022-10-08 11:56:23    2\n",
       "                                            8371     0x5d6cacdea4d2c64ae9f966e4e2ff027e82890701  2022-09-02 16:07:22  2022-09-16 16:07:22    2\n",
       "                                            9853     0x5d6cacdea4d2c64ae9f966e4e2ff027e82890701  2022-09-24 11:54:47  2022-10-08 11:54:47    2\n",
       "0xe785e82358879f061bc3dcac6f0444462d4b5330  9045     0x9cd074f0192bb2a477da3271ba03db4fc5cd38c7  2023-01-04 21:13:47  2023-02-03 21:13:47    2\n",
       "Name: loanStartTime, dtype: int64<\/pre>"
      ]
     },
     "metadata":{
      
     },
     "output_type":"display_data"
    }
   ],
   "metadata":{
    "datalore":{
     "node_id":"wjYjjpupJZkmHzTllVcnAF",
     "type":"CODE",
     "hide_input_from_viewers":false,
     "hide_output_from_viewers":false,
     "report_properties":{
      
     }
    }
   }
  },
  {
   "cell_type":"code",
   "source":[
    "nft_data[(nft_data['asset_contract']=='0x34d85c9cdeb23fa97cb08333b511ac86e1c4e258') & \\\n",
    "         (nft_data['loanStartTime']=='2022-05-13 03:40:54') & \\\n",
    "         (nft_data['lender'] == '0x3b2b81721fa6c5be3bb372b8bb334d78599c51c5')]\n"
   ],
   "execution_count":6,
   "outputs":[
    {
     "data":{
      "text\/html":[
       "<div>\n",
       "<style scoped>\n",
       "    .dataframe tbody tr th:only-of-type {\n",
       "        vertical-align: middle;\n",
       "    }\n",
       "\n",
       "    .dataframe tbody tr th {\n",
       "        vertical-align: top;\n",
       "    }\n",
       "\n",
       "    .dataframe thead th {\n",
       "        text-align: right;\n",
       "    }\n",
       "<\/style>\n",
       "<table border=\"1\" class=\"dataframe\">\n",
       "  <thead>\n",
       "    <tr style=\"text-align: right;\">\n",
       "      <th><\/th>\n",
       "      <th>loanStartTime<\/th>\n",
       "      <th>loanDueTime<\/th>\n",
       "      <th>asset_contract<\/th>\n",
       "      <th>item_no<\/th>\n",
       "      <th>status<\/th>\n",
       "      <th>loanPrincipalAmount<\/th>\n",
       "      <th>amountPaidToLender<\/th>\n",
       "      <th>APR<\/th>\n",
       "      <th>loanDuration<\/th>\n",
       "      <th>lender<\/th>\n",
       "      <th>borrower<\/th>\n",
       "      <th>assetCategory<\/th>\n",
       "      <th>loanERC20Denomination<\/th>\n",
       "      <th>slug<\/th>\n",
       "      <th>starting_valuation<\/th>\n",
       "      <th>ending_valuation<\/th>\n",
       "      <th>LTV<\/th>\n",
       "    <\/tr>\n",
       "  <\/thead>\n",
       "  <tbody>\n",
       "    <tr>\n",
       "      <th>8722<\/th>\n",
       "      <td>2022-05-13 03:40:54<\/td>\n",
       "      <td>2022-06-12 03:40:54<\/td>\n",
       "      <td>0x34d85c9cdeb23fa97cb08333b511ac86e1c4e258<\/td>\n",
       "      <td>77033<\/td>\n",
       "      <td>repaid<\/td>\n",
       "      <td>1.4<\/td>\n",
       "      <td>1.439354<\/td>\n",
       "      <td>36.0<\/td>\n",
       "      <td>30.0<\/td>\n",
       "      <td>0x3b2b81721fa6c5be3bb372b8bb334d78599c51c5<\/td>\n",
       "      <td>0x4d4d5236d1160698e21b44fcf6b35797081c8fdf<\/td>\n",
       "      <td>Otherdeed for Otherside<\/td>\n",
       "      <td>0xc02aaa39b223fe8d0a0e5c4f27ead9083c756cc2<\/td>\n",
       "      <td>otherdeed<\/td>\n",
       "      <td>2.9274<\/td>\n",
       "      <td>2.1312<\/td>\n",
       "      <td>0.47824<\/td>\n",
       "    <\/tr>\n",
       "    <tr>\n",
       "      <th>8723<\/th>\n",
       "      <td>2022-05-13 03:40:54<\/td>\n",
       "      <td>2022-06-12 03:40:54<\/td>\n",
       "      <td>0x34d85c9cdeb23fa97cb08333b511ac86e1c4e258<\/td>\n",
       "      <td>82136<\/td>\n",
       "      <td>repaid<\/td>\n",
       "      <td>1.4<\/td>\n",
       "      <td>1.439354<\/td>\n",
       "      <td>36.0<\/td>\n",
       "      <td>30.0<\/td>\n",
       "      <td>0x3b2b81721fa6c5be3bb372b8bb334d78599c51c5<\/td>\n",
       "      <td>0x4d4d5236d1160698e21b44fcf6b35797081c8fdf<\/td>\n",
       "      <td>Otherdeed for Otherside<\/td>\n",
       "      <td>0xc02aaa39b223fe8d0a0e5c4f27ead9083c756cc2<\/td>\n",
       "      <td>otherdeed<\/td>\n",
       "      <td>2.9274<\/td>\n",
       "      <td>2.1312<\/td>\n",
       "      <td>0.47824<\/td>\n",
       "    <\/tr>\n",
       "  <\/tbody>\n",
       "<\/table>\n",
       "<\/div>"
      ]
     },
     "metadata":{
      
     },
     "output_type":"display_data"
    }
   ],
   "metadata":{
    "datalore":{
     "node_id":"PEMuuyCnVJImxZNGm5bP03",
     "type":"CODE",
     "hide_input_from_viewers":false,
     "hide_output_from_viewers":false,
     "report_properties":{
      
     }
    }
   }
  },
  {
   "cell_type":"code",
   "source":[
    "# use 'asset_contract', 'item_no', 'lender', 'loanStartTime', 'loanDueTime' as key, dedup data:\n",
    "nft_data_processed = nft_data.drop_duplicates(['asset_contract', 'item_no', 'lender', 'loanStartTime', 'loanDueTime'])\n",
    "print(nft_data_processed.count())\n",
    "nft_data_processed"
   ],
   "execution_count":7,
   "outputs":[
    {
     "name":"stdout",
     "text":[
      "loanStartTime            12750\n",
      "loanDueTime              12750\n",
      "asset_contract           12750\n",
      "item_no                  12750\n",
      "status                   12750\n",
      "loanPrincipalAmount      12750\n",
      "amountPaidToLender       12750\n",
      "APR                      12750\n",
      "loanDuration             12750\n",
      "lender                   12750\n",
      "borrower                 12750\n",
      "assetCategory            12749\n",
      "loanERC20Denomination    12750\n",
      "slug                     12750\n",
      "starting_valuation       12750\n",
      "ending_valuation         12750\n",
      "LTV                      12750\n",
      "dtype: int64\n"
     ],
     "output_type":"stream"
    },
    {
     "data":{
      "text\/html":[
       "<div>\n",
       "<style scoped>\n",
       "    .dataframe tbody tr th:only-of-type {\n",
       "        vertical-align: middle;\n",
       "    }\n",
       "\n",
       "    .dataframe tbody tr th {\n",
       "        vertical-align: top;\n",
       "    }\n",
       "\n",
       "    .dataframe thead th {\n",
       "        text-align: right;\n",
       "    }\n",
       "<\/style>\n",
       "<table border=\"1\" class=\"dataframe\">\n",
       "  <thead>\n",
       "    <tr style=\"text-align: right;\">\n",
       "      <th><\/th>\n",
       "      <th>loanStartTime<\/th>\n",
       "      <th>loanDueTime<\/th>\n",
       "      <th>asset_contract<\/th>\n",
       "      <th>item_no<\/th>\n",
       "      <th>status<\/th>\n",
       "      <th>loanPrincipalAmount<\/th>\n",
       "      <th>amountPaidToLender<\/th>\n",
       "      <th>APR<\/th>\n",
       "      <th>loanDuration<\/th>\n",
       "      <th>lender<\/th>\n",
       "      <th>borrower<\/th>\n",
       "      <th>assetCategory<\/th>\n",
       "      <th>loanERC20Denomination<\/th>\n",
       "      <th>slug<\/th>\n",
       "      <th>starting_valuation<\/th>\n",
       "      <th>ending_valuation<\/th>\n",
       "      <th>LTV<\/th>\n",
       "    <\/tr>\n",
       "  <\/thead>\n",
       "  <tbody>\n",
       "    <tr>\n",
       "      <th>1063<\/th>\n",
       "      <td>2021-09-02 01:24:42<\/td>\n",
       "      <td>2021-10-02 01:24:42<\/td>\n",
       "      <td>0xa3aee8bce55beea1951ef834b99f3ac60d1abeeb<\/td>\n",
       "      <td>2232<\/td>\n",
       "      <td>repaid<\/td>\n",
       "      <td>10.000<\/td>\n",
       "      <td>11.520000<\/td>\n",
       "      <td>194.67<\/td>\n",
       "      <td>30.0<\/td>\n",
       "      <td>0xf542443cd8f4b18578aa7f2b647676a9c41914b3<\/td>\n",
       "      <td>0xed50b7114a69c69cbbb9a38d234d1514fd952413<\/td>\n",
       "      <td>VeeFriends<\/td>\n",
       "      <td>0xc02aaa39b223fe8d0a0e5c4f27ead9083c756cc2<\/td>\n",
       "      <td>veefriends<\/td>\n",
       "      <td>11.5555<\/td>\n",
       "      <td>14.590<\/td>\n",
       "      <td>0.865389<\/td>\n",
       "    <\/tr>\n",
       "    <tr>\n",
       "      <th>1076<\/th>\n",
       "      <td>2021-09-02 18:36:45<\/td>\n",
       "      <td>2021-10-02 18:36:45<\/td>\n",
       "      <td>0x905b180268f2773022e1a10e204b0858b2e60dcf<\/td>\n",
       "      <td>1466040470<\/td>\n",
       "      <td>repaid<\/td>\n",
       "      <td>5.000<\/td>\n",
       "      <td>5.380000<\/td>\n",
       "      <td>97.33<\/td>\n",
       "      <td>30.0<\/td>\n",
       "      <td>0xf542443cd8f4b18578aa7f2b647676a9c41914b3<\/td>\n",
       "      <td>0xe74ca58ef724b94fac7f2e09e2e48536a5c1ad03<\/td>\n",
       "      <td>Pulsquares<\/td>\n",
       "      <td>0xc02aaa39b223fe8d0a0e5c4f27ead9083c756cc2<\/td>\n",
       "      <td>pulsquares<\/td>\n",
       "      <td>22.0000<\/td>\n",
       "      <td>8.500<\/td>\n",
       "      <td>0.227273<\/td>\n",
       "    <\/tr>\n",
       "    <tr>\n",
       "      <th>1086<\/th>\n",
       "      <td>2021-09-03 09:55:36<\/td>\n",
       "      <td>2021-09-10 09:55:36<\/td>\n",
       "      <td>0xa3aee8bce55beea1951ef834b99f3ac60d1abeeb<\/td>\n",
       "      <td>3466<\/td>\n",
       "      <td>repaid<\/td>\n",
       "      <td>5.500<\/td>\n",
       "      <td>5.580165<\/td>\n",
       "      <td>80.00<\/td>\n",
       "      <td>7.0<\/td>\n",
       "      <td>0x88abb547673b28b89ac72b7c0dc1627d3f12b4d0<\/td>\n",
       "      <td>0x3f015b37cd324d3cbaaa075a75f8f0a9afeb04e1<\/td>\n",
       "      <td>VeeFriends<\/td>\n",
       "      <td>0xc02aaa39b223fe8d0a0e5c4f27ead9083c756cc2<\/td>\n",
       "      <td>veefriends<\/td>\n",
       "      <td>13.8900<\/td>\n",
       "      <td>13.890<\/td>\n",
       "      <td>0.395968<\/td>\n",
       "    <\/tr>\n",
       "    <tr>\n",
       "      <th>1110<\/th>\n",
       "      <td>2021-09-09 12:20:39<\/td>\n",
       "      <td>2021-10-09 12:20:39<\/td>\n",
       "      <td>0x905b180268f2773022e1a10e204b0858b2e60dcf<\/td>\n",
       "      <td>3691774315<\/td>\n",
       "      <td>repaid<\/td>\n",
       "      <td>5.475<\/td>\n",
       "      <td>6.045000<\/td>\n",
       "      <td>133.33<\/td>\n",
       "      <td>30.0<\/td>\n",
       "      <td>0xf542443cd8f4b18578aa7f2b647676a9c41914b3<\/td>\n",
       "      <td>0xe74ca58ef724b94fac7f2e09e2e48536a5c1ad03<\/td>\n",
       "      <td>Pulsquares<\/td>\n",
       "      <td>0xc02aaa39b223fe8d0a0e5c4f27ead9083c756cc2<\/td>\n",
       "      <td>pulsquares<\/td>\n",
       "      <td>16.8500<\/td>\n",
       "      <td>7.850<\/td>\n",
       "      <td>0.324926<\/td>\n",
       "    <\/tr>\n",
       "    <tr>\n",
       "      <th>1125<\/th>\n",
       "      <td>2021-09-14 13:45:22<\/td>\n",
       "      <td>2021-09-21 13:45:22<\/td>\n",
       "      <td>0x85f740958906b317de6ed79663012859067e745b<\/td>\n",
       "      <td>2171<\/td>\n",
       "      <td>liquidated<\/td>\n",
       "      <td>0.200<\/td>\n",
       "      <td>0.000000<\/td>\n",
       "      <td>0.00<\/td>\n",
       "      <td>7.0<\/td>\n",
       "      <td>0x1b02eab42a1004a6210428c5740fcf0cbcb5ca6e<\/td>\n",
       "      <td>0x752184a2069c35f03d0216ba806013693740b285<\/td>\n",
       "      <td>TheWickedCraniums<\/td>\n",
       "      <td>0xc02aaa39b223fe8d0a0e5c4f27ead9083c756cc2<\/td>\n",
       "      <td>thewickedcraniums<\/td>\n",
       "      <td>0.2500<\/td>\n",
       "      <td>0.350<\/td>\n",
       "      <td>0.800000<\/td>\n",
       "    <\/tr>\n",
       "    <tr>\n",
       "      <th>...<\/th>\n",
       "      <td>...<\/td>\n",
       "      <td>...<\/td>\n",
       "      <td>...<\/td>\n",
       "      <td>...<\/td>\n",
       "      <td>...<\/td>\n",
       "      <td>...<\/td>\n",
       "      <td>...<\/td>\n",
       "      <td>...<\/td>\n",
       "      <td>...<\/td>\n",
       "      <td>...<\/td>\n",
       "      <td>...<\/td>\n",
       "      <td>...<\/td>\n",
       "      <td>...<\/td>\n",
       "      <td>...<\/td>\n",
       "      <td>...<\/td>\n",
       "      <td>...<\/td>\n",
       "      <td>...<\/td>\n",
       "    <\/tr>\n",
       "    <tr>\n",
       "      <th>24860<\/th>\n",
       "      <td>2023-01-16 15:14:23<\/td>\n",
       "      <td>2023-02-15 15:14:23<\/td>\n",
       "      <td>0x80336ad7a747236ef41f47ed2c7641828a480baa<\/td>\n",
       "      <td>1922<\/td>\n",
       "      <td>escrow<\/td>\n",
       "      <td>0.800<\/td>\n",
       "      <td>0.000000<\/td>\n",
       "      <td>79.00<\/td>\n",
       "      <td>30.0<\/td>\n",
       "      <td>0x5b20dce335d131c6de0cc11b481ace2aade788df<\/td>\n",
       "      <td>0x77182f4f182432945b520e054d3a7b5ab2a83e22<\/td>\n",
       "      <td>Chimpers<\/td>\n",
       "      <td>0xc02aaa39b223fe8d0a0e5c4f27ead9083c756cc2<\/td>\n",
       "      <td>chimpersnft<\/td>\n",
       "      <td>1.6950<\/td>\n",
       "      <td>1.695<\/td>\n",
       "      <td>0.471976<\/td>\n",
       "    <\/tr>\n",
       "    <tr>\n",
       "      <th>24862<\/th>\n",
       "      <td>2023-01-16 15:46:11<\/td>\n",
       "      <td>2023-01-30 15:46:11<\/td>\n",
       "      <td>0x49cf6f5d44e70224e2e23fdcdd2c053f30ada28b<\/td>\n",
       "      <td>8800<\/td>\n",
       "      <td>escrow<\/td>\n",
       "      <td>9.000<\/td>\n",
       "      <td>0.000000<\/td>\n",
       "      <td>50.00<\/td>\n",
       "      <td>14.0<\/td>\n",
       "      <td>0x503c284ca2aee317426642a697eeb09f1feccf41<\/td>\n",
       "      <td>0x031df53cb282498278f9974749642869f3ee2ba3<\/td>\n",
       "      <td>CLONE X - X TAKASHI MURAKAMI<\/td>\n",
       "      <td>0xc02aaa39b223fe8d0a0e5c4f27ead9083c756cc2<\/td>\n",
       "      <td>clonex<\/td>\n",
       "      <td>5.7500<\/td>\n",
       "      <td>5.750<\/td>\n",
       "      <td>1.565217<\/td>\n",
       "    <\/tr>\n",
       "    <tr>\n",
       "      <th>24863<\/th>\n",
       "      <td>2023-01-16 15:54:11<\/td>\n",
       "      <td>2023-02-15 15:54:11<\/td>\n",
       "      <td>0x49cf6f5d44e70224e2e23fdcdd2c053f30ada28b<\/td>\n",
       "      <td>3989<\/td>\n",
       "      <td>escrow<\/td>\n",
       "      <td>4.511<\/td>\n",
       "      <td>0.000000<\/td>\n",
       "      <td>38.00<\/td>\n",
       "      <td>30.0<\/td>\n",
       "      <td>0xf3bbcda1c73281e461d2a3388ffa03807b3f98a2<\/td>\n",
       "      <td>0x77182f4f182432945b520e054d3a7b5ab2a83e22<\/td>\n",
       "      <td>CLONE X - X TAKASHI MURAKAMI<\/td>\n",
       "      <td>0xc02aaa39b223fe8d0a0e5c4f27ead9083c756cc2<\/td>\n",
       "      <td>clonex<\/td>\n",
       "      <td>5.7500<\/td>\n",
       "      <td>5.750<\/td>\n",
       "      <td>0.784522<\/td>\n",
       "    <\/tr>\n",
       "    <tr>\n",
       "      <th>24864<\/th>\n",
       "      <td>2023-01-16 16:36:11<\/td>\n",
       "      <td>2023-02-15 16:36:11<\/td>\n",
       "      <td>0xccc441ac31f02cd96c153db6fd5fe0a2f4e6a68d<\/td>\n",
       "      <td>2440<\/td>\n",
       "      <td>escrow<\/td>\n",
       "      <td>1.700<\/td>\n",
       "      <td>0.000000<\/td>\n",
       "      <td>35.00<\/td>\n",
       "      <td>30.0<\/td>\n",
       "      <td>0xa76b00d8fe77807edc51a87dbceabb623701d9d7<\/td>\n",
       "      <td>0x50fec23ffb143fd9b71ed11337b2b04c1a35f5d5<\/td>\n",
       "      <td>FLUF World<\/td>\n",
       "      <td>0xc02aaa39b223fe8d0a0e5c4f27ead9083c756cc2<\/td>\n",
       "      <td>fluf<\/td>\n",
       "      <td>3.0900<\/td>\n",
       "      <td>3.090<\/td>\n",
       "      <td>0.550162<\/td>\n",
       "    <\/tr>\n",
       "    <tr>\n",
       "      <th>24866<\/th>\n",
       "      <td>2023-01-16 16:46:47<\/td>\n",
       "      <td>2023-02-15 16:46:47<\/td>\n",
       "      <td>0x5cc5b05a8a13e3fbdb0bb9fccd98d38e50f90c38<\/td>\n",
       "      <td>95255<\/td>\n",
       "      <td>escrow<\/td>\n",
       "      <td>0.700<\/td>\n",
       "      <td>0.000000<\/td>\n",
       "      <td>50.00<\/td>\n",
       "      <td>30.0<\/td>\n",
       "      <td>0x31d75becb2fe9cc60eb4877b44110aa1cdae90a5<\/td>\n",
       "      <td>0x890c7aede8d6b045ad982b3d2524b627e995af18<\/td>\n",
       "      <td>The Sandbox<\/td>\n",
       "      <td>0xc02aaa39b223fe8d0a0e5c4f27ead9083c756cc2<\/td>\n",
       "      <td>sandbox<\/td>\n",
       "      <td>0.9100<\/td>\n",
       "      <td>0.910<\/td>\n",
       "      <td>0.769231<\/td>\n",
       "    <\/tr>\n",
       "  <\/tbody>\n",
       "<\/table>\n",
       "<p>12750 rows × 17 columns<\/p>\n",
       "<\/div>"
      ]
     },
     "metadata":{
      
     },
     "output_type":"display_data"
    }
   ],
   "metadata":{
    "datalore":{
     "node_id":"HMKgcRliYDI0xEigt83HsX",
     "type":"CODE",
     "hide_input_from_viewers":false,
     "hide_output_from_viewers":false,
     "report_properties":{
      
     }
    }
   }
  },
  {
   "cell_type":"markdown",
   "source":[
    "## average dur of loan -> pool life"
   ],
   "attachments":{
    
   },
   "metadata":{
    "datalore":{
     "node_id":"mSC2owE1WiZqp2frNT8ct9",
     "type":"MD",
     "hide_input_from_viewers":false,
     "hide_output_from_viewers":false,
     "report_properties":{
      
     }
    }
   }
  },
  {
   "cell_type":"code",
   "source":[
    "nft_data_processed['loanDueDate'] = pd.to_datetime(pd.to_datetime(nft_data_processed['loanDueTime']).dt.date)\n",
    "nft_data_processed['loanStartDate'] = pd.to_datetime(pd.to_datetime(nft_data_processed['loanStartTime']).dt.date)\n",
    "nft_data_processed['maturity'] = (nft_data_processed['loanDueDate'] - nft_data_processed['loanStartDate']).dt.days\n",
    "nft_data_processed['maturity'].describe()"
   ],
   "execution_count":8,
   "outputs":[
    {
     "name":"stderr",
     "text":[
      "<ipython-input-8-2c53c7692fa8>:1: SettingWithCopyWarning: \n",
      "A value is trying to be set on a copy of a slice from a DataFrame.\n",
      "Try using .loc[row_indexer,col_indexer] = value instead\n",
      "\n",
      "See the caveats in the documentation: https:\/\/pandas.pydata.org\/pandas-docs\/stable\/user_guide\/indexing.html#returning-a-view-versus-a-copy\n",
      "  nft_data_processed['loanDueDate'] = pd.to_datetime(pd.to_datetime(nft_data_processed['loanDueTime']).dt.date)\n",
      "<ipython-input-8-2c53c7692fa8>:2: SettingWithCopyWarning: \n",
      "A value is trying to be set on a copy of a slice from a DataFrame.\n",
      "Try using .loc[row_indexer,col_indexer] = value instead\n",
      "\n",
      "See the caveats in the documentation: https:\/\/pandas.pydata.org\/pandas-docs\/stable\/user_guide\/indexing.html#returning-a-view-versus-a-copy\n",
      "  nft_data_processed['loanStartDate'] = pd.to_datetime(pd.to_datetime(nft_data_processed['loanStartTime']).dt.date)\n",
      "<ipython-input-8-2c53c7692fa8>:3: SettingWithCopyWarning: \n",
      "A value is trying to be set on a copy of a slice from a DataFrame.\n",
      "Try using .loc[row_indexer,col_indexer] = value instead\n",
      "\n",
      "See the caveats in the documentation: https:\/\/pandas.pydata.org\/pandas-docs\/stable\/user_guide\/indexing.html#returning-a-view-versus-a-copy\n",
      "  nft_data_processed['maturity'] = (nft_data_processed['loanDueDate'] - nft_data_processed['loanStartDate']).dt.days\n"
     ],
     "output_type":"stream"
    },
    {
     "data":{
      "text\/html":[
       "<pre>count    12750.000000\n",
       "mean        30.438118\n",
       "std         21.542656\n",
       "min          0.000000\n",
       "25%         14.000000\n",
       "50%         30.000000\n",
       "75%         30.000000\n",
       "max        180.000000\n",
       "Name: maturity, dtype: float64<\/pre>"
      ]
     },
     "metadata":{
      
     },
     "output_type":"display_data"
    }
   ],
   "metadata":{
    "datalore":{
     "node_id":"aAQKSHCZPXEt2NzMS37Eh7",
     "type":"CODE",
     "hide_input_from_viewers":false,
     "hide_output_from_viewers":false,
     "report_properties":{
      
     }
    }
   }
  },
  {
   "cell_type":"code",
   "source":[
    "nft_data_processed['maturity'].hist(bins=25, range=(0,125))\n",
    "plt.title('histogram of loan maturities between 2021-10-01 and 2023-02-01')\n",
    "plt.ylabel('frequency')\n",
    "plt.xlabel('maturity in days')\n",
    "plt.savefig('histogram of loan maturities between 2021-10-01 and 2023-02-01.png')"
   ],
   "execution_count":9,
   "outputs":[
    {
     "data":{
      "image\/png":"[encoded data removed]"
     },
     "metadata":{
      "image\/png":{
       
      }
     },
     "output_type":"display_data"
    }
   ],
   "metadata":{
    "datalore":{
     "node_id":"NorNMNibZtEqX0EQByQkoF",
     "type":"CODE",
     "hide_input_from_viewers":false,
     "hide_output_from_viewers":false,
     "report_properties":{
      
     }
    }
   }
  },
  {
   "cell_type":"code",
   "source":[
    "nft_data_processed"
   ],
   "execution_count":10,
   "outputs":[
    {
     "data":{
      "text\/html":[
       "<div>\n",
       "<style scoped>\n",
       "    .dataframe tbody tr th:only-of-type {\n",
       "        vertical-align: middle;\n",
       "    }\n",
       "\n",
       "    .dataframe tbody tr th {\n",
       "        vertical-align: top;\n",
       "    }\n",
       "\n",
       "    .dataframe thead th {\n",
       "        text-align: right;\n",
       "    }\n",
       "<\/style>\n",
       "<table border=\"1\" class=\"dataframe\">\n",
       "  <thead>\n",
       "    <tr style=\"text-align: right;\">\n",
       "      <th><\/th>\n",
       "      <th>loanStartTime<\/th>\n",
       "      <th>loanDueTime<\/th>\n",
       "      <th>asset_contract<\/th>\n",
       "      <th>item_no<\/th>\n",
       "      <th>status<\/th>\n",
       "      <th>loanPrincipalAmount<\/th>\n",
       "      <th>amountPaidToLender<\/th>\n",
       "      <th>APR<\/th>\n",
       "      <th>loanDuration<\/th>\n",
       "      <th>lender<\/th>\n",
       "      <th>borrower<\/th>\n",
       "      <th>assetCategory<\/th>\n",
       "      <th>loanERC20Denomination<\/th>\n",
       "      <th>slug<\/th>\n",
       "      <th>starting_valuation<\/th>\n",
       "      <th>ending_valuation<\/th>\n",
       "      <th>LTV<\/th>\n",
       "      <th>loanDueDate<\/th>\n",
       "      <th>loanStartDate<\/th>\n",
       "      <th>maturity<\/th>\n",
       "    <\/tr>\n",
       "  <\/thead>\n",
       "  <tbody>\n",
       "    <tr>\n",
       "      <th>1063<\/th>\n",
       "      <td>2021-09-02 01:24:42<\/td>\n",
       "      <td>2021-10-02 01:24:42<\/td>\n",
       "      <td>0xa3aee8bce55beea1951ef834b99f3ac60d1abeeb<\/td>\n",
       "      <td>2232<\/td>\n",
       "      <td>repaid<\/td>\n",
       "      <td>10.000<\/td>\n",
       "      <td>11.520000<\/td>\n",
       "      <td>194.67<\/td>\n",
       "      <td>30.0<\/td>\n",
       "      <td>0xf542443cd8f4b18578aa7f2b647676a9c41914b3<\/td>\n",
       "      <td>0xed50b7114a69c69cbbb9a38d234d1514fd952413<\/td>\n",
       "      <td>VeeFriends<\/td>\n",
       "      <td>0xc02aaa39b223fe8d0a0e5c4f27ead9083c756cc2<\/td>\n",
       "      <td>veefriends<\/td>\n",
       "      <td>11.5555<\/td>\n",
       "      <td>14.590<\/td>\n",
       "      <td>0.865389<\/td>\n",
       "      <td>2021-10-02<\/td>\n",
       "      <td>2021-09-02<\/td>\n",
       "      <td>30<\/td>\n",
       "    <\/tr>\n",
       "    <tr>\n",
       "      <th>1076<\/th>\n",
       "      <td>2021-09-02 18:36:45<\/td>\n",
       "      <td>2021-10-02 18:36:45<\/td>\n",
       "      <td>0x905b180268f2773022e1a10e204b0858b2e60dcf<\/td>\n",
       "      <td>1466040470<\/td>\n",
       "      <td>repaid<\/td>\n",
       "      <td>5.000<\/td>\n",
       "      <td>5.380000<\/td>\n",
       "      <td>97.33<\/td>\n",
       "      <td>30.0<\/td>\n",
       "      <td>0xf542443cd8f4b18578aa7f2b647676a9c41914b3<\/td>\n",
       "      <td>0xe74ca58ef724b94fac7f2e09e2e48536a5c1ad03<\/td>\n",
       "      <td>Pulsquares<\/td>\n",
       "      <td>0xc02aaa39b223fe8d0a0e5c4f27ead9083c756cc2<\/td>\n",
       "      <td>pulsquares<\/td>\n",
       "      <td>22.0000<\/td>\n",
       "      <td>8.500<\/td>\n",
       "      <td>0.227273<\/td>\n",
       "      <td>2021-10-02<\/td>\n",
       "      <td>2021-09-02<\/td>\n",
       "      <td>30<\/td>\n",
       "    <\/tr>\n",
       "    <tr>\n",
       "      <th>1086<\/th>\n",
       "      <td>2021-09-03 09:55:36<\/td>\n",
       "      <td>2021-09-10 09:55:36<\/td>\n",
       "      <td>0xa3aee8bce55beea1951ef834b99f3ac60d1abeeb<\/td>\n",
       "      <td>3466<\/td>\n",
       "      <td>repaid<\/td>\n",
       "      <td>5.500<\/td>\n",
       "      <td>5.580165<\/td>\n",
       "      <td>80.00<\/td>\n",
       "      <td>7.0<\/td>\n",
       "      <td>0x88abb547673b28b89ac72b7c0dc1627d3f12b4d0<\/td>\n",
       "      <td>0x3f015b37cd324d3cbaaa075a75f8f0a9afeb04e1<\/td>\n",
       "      <td>VeeFriends<\/td>\n",
       "      <td>0xc02aaa39b223fe8d0a0e5c4f27ead9083c756cc2<\/td>\n",
       "      <td>veefriends<\/td>\n",
       "      <td>13.8900<\/td>\n",
       "      <td>13.890<\/td>\n",
       "      <td>0.395968<\/td>\n",
       "      <td>2021-09-10<\/td>\n",
       "      <td>2021-09-03<\/td>\n",
       "      <td>7<\/td>\n",
       "    <\/tr>\n",
       "    <tr>\n",
       "      <th>1110<\/th>\n",
       "      <td>2021-09-09 12:20:39<\/td>\n",
       "      <td>2021-10-09 12:20:39<\/td>\n",
       "      <td>0x905b180268f2773022e1a10e204b0858b2e60dcf<\/td>\n",
       "      <td>3691774315<\/td>\n",
       "      <td>repaid<\/td>\n",
       "      <td>5.475<\/td>\n",
       "      <td>6.045000<\/td>\n",
       "      <td>133.33<\/td>\n",
       "      <td>30.0<\/td>\n",
       "      <td>0xf542443cd8f4b18578aa7f2b647676a9c41914b3<\/td>\n",
       "      <td>0xe74ca58ef724b94fac7f2e09e2e48536a5c1ad03<\/td>\n",
       "      <td>Pulsquares<\/td>\n",
       "      <td>0xc02aaa39b223fe8d0a0e5c4f27ead9083c756cc2<\/td>\n",
       "      <td>pulsquares<\/td>\n",
       "      <td>16.8500<\/td>\n",
       "      <td>7.850<\/td>\n",
       "      <td>0.324926<\/td>\n",
       "      <td>2021-10-09<\/td>\n",
       "      <td>2021-09-09<\/td>\n",
       "      <td>30<\/td>\n",
       "    <\/tr>\n",
       "    <tr>\n",
       "      <th>1125<\/th>\n",
       "      <td>2021-09-14 13:45:22<\/td>\n",
       "      <td>2021-09-21 13:45:22<\/td>\n",
       "      <td>0x85f740958906b317de6ed79663012859067e745b<\/td>\n",
       "      <td>2171<\/td>\n",
       "      <td>liquidated<\/td>\n",
       "      <td>0.200<\/td>\n",
       "      <td>0.000000<\/td>\n",
       "      <td>0.00<\/td>\n",
       "      <td>7.0<\/td>\n",
       "      <td>0x1b02eab42a1004a6210428c5740fcf0cbcb5ca6e<\/td>\n",
       "      <td>0x752184a2069c35f03d0216ba806013693740b285<\/td>\n",
       "      <td>TheWickedCraniums<\/td>\n",
       "      <td>0xc02aaa39b223fe8d0a0e5c4f27ead9083c756cc2<\/td>\n",
       "      <td>thewickedcraniums<\/td>\n",
       "      <td>0.2500<\/td>\n",
       "      <td>0.350<\/td>\n",
       "      <td>0.800000<\/td>\n",
       "      <td>2021-09-21<\/td>\n",
       "      <td>2021-09-14<\/td>\n",
       "      <td>7<\/td>\n",
       "    <\/tr>\n",
       "    <tr>\n",
       "      <th>...<\/th>\n",
       "      <td>...<\/td>\n",
       "      <td>...<\/td>\n",
       "      <td>...<\/td>\n",
       "      <td>...<\/td>\n",
       "      <td>...<\/td>\n",
       "      <td>...<\/td>\n",
       "      <td>...<\/td>\n",
       "      <td>...<\/td>\n",
       "      <td>...<\/td>\n",
       "      <td>...<\/td>\n",
       "      <td>...<\/td>\n",
       "      <td>...<\/td>\n",
       "      <td>...<\/td>\n",
       "      <td>...<\/td>\n",
       "      <td>...<\/td>\n",
       "      <td>...<\/td>\n",
       "      <td>...<\/td>\n",
       "      <td>...<\/td>\n",
       "      <td>...<\/td>\n",
       "      <td>...<\/td>\n",
       "    <\/tr>\n",
       "    <tr>\n",
       "      <th>24860<\/th>\n",
       "      <td>2023-01-16 15:14:23<\/td>\n",
       "      <td>2023-02-15 15:14:23<\/td>\n",
       "      <td>0x80336ad7a747236ef41f47ed2c7641828a480baa<\/td>\n",
       "      <td>1922<\/td>\n",
       "      <td>escrow<\/td>\n",
       "      <td>0.800<\/td>\n",
       "      <td>0.000000<\/td>\n",
       "      <td>79.00<\/td>\n",
       "      <td>30.0<\/td>\n",
       "      <td>0x5b20dce335d131c6de0cc11b481ace2aade788df<\/td>\n",
       "      <td>0x77182f4f182432945b520e054d3a7b5ab2a83e22<\/td>\n",
       "      <td>Chimpers<\/td>\n",
       "      <td>0xc02aaa39b223fe8d0a0e5c4f27ead9083c756cc2<\/td>\n",
       "      <td>chimpersnft<\/td>\n",
       "      <td>1.6950<\/td>\n",
       "      <td>1.695<\/td>\n",
       "      <td>0.471976<\/td>\n",
       "      <td>2023-02-15<\/td>\n",
       "      <td>2023-01-16<\/td>\n",
       "      <td>30<\/td>\n",
       "    <\/tr>\n",
       "    <tr>\n",
       "      <th>24862<\/th>\n",
       "      <td>2023-01-16 15:46:11<\/td>\n",
       "      <td>2023-01-30 15:46:11<\/td>\n",
       "      <td>0x49cf6f5d44e70224e2e23fdcdd2c053f30ada28b<\/td>\n",
       "      <td>8800<\/td>\n",
       "      <td>escrow<\/td>\n",
       "      <td>9.000<\/td>\n",
       "      <td>0.000000<\/td>\n",
       "      <td>50.00<\/td>\n",
       "      <td>14.0<\/td>\n",
       "      <td>0x503c284ca2aee317426642a697eeb09f1feccf41<\/td>\n",
       "      <td>0x031df53cb282498278f9974749642869f3ee2ba3<\/td>\n",
       "      <td>CLONE X - X TAKASHI MURAKAMI<\/td>\n",
       "      <td>0xc02aaa39b223fe8d0a0e5c4f27ead9083c756cc2<\/td>\n",
       "      <td>clonex<\/td>\n",
       "      <td>5.7500<\/td>\n",
       "      <td>5.750<\/td>\n",
       "      <td>1.565217<\/td>\n",
       "      <td>2023-01-30<\/td>\n",
       "      <td>2023-01-16<\/td>\n",
       "      <td>14<\/td>\n",
       "    <\/tr>\n",
       "    <tr>\n",
       "      <th>24863<\/th>\n",
       "      <td>2023-01-16 15:54:11<\/td>\n",
       "      <td>2023-02-15 15:54:11<\/td>\n",
       "      <td>0x49cf6f5d44e70224e2e23fdcdd2c053f30ada28b<\/td>\n",
       "      <td>3989<\/td>\n",
       "      <td>escrow<\/td>\n",
       "      <td>4.511<\/td>\n",
       "      <td>0.000000<\/td>\n",
       "      <td>38.00<\/td>\n",
       "      <td>30.0<\/td>\n",
       "      <td>0xf3bbcda1c73281e461d2a3388ffa03807b3f98a2<\/td>\n",
       "      <td>0x77182f4f182432945b520e054d3a7b5ab2a83e22<\/td>\n",
       "      <td>CLONE X - X TAKASHI MURAKAMI<\/td>\n",
       "      <td>0xc02aaa39b223fe8d0a0e5c4f27ead9083c756cc2<\/td>\n",
       "      <td>clonex<\/td>\n",
       "      <td>5.7500<\/td>\n",
       "      <td>5.750<\/td>\n",
       "      <td>0.784522<\/td>\n",
       "      <td>2023-02-15<\/td>\n",
       "      <td>2023-01-16<\/td>\n",
       "      <td>30<\/td>\n",
       "    <\/tr>\n",
       "    <tr>\n",
       "      <th>24864<\/th>\n",
       "      <td>2023-01-16 16:36:11<\/td>\n",
       "      <td>2023-02-15 16:36:11<\/td>\n",
       "      <td>0xccc441ac31f02cd96c153db6fd5fe0a2f4e6a68d<\/td>\n",
       "      <td>2440<\/td>\n",
       "      <td>escrow<\/td>\n",
       "      <td>1.700<\/td>\n",
       "      <td>0.000000<\/td>\n",
       "      <td>35.00<\/td>\n",
       "      <td>30.0<\/td>\n",
       "      <td>0xa76b00d8fe77807edc51a87dbceabb623701d9d7<\/td>\n",
       "      <td>0x50fec23ffb143fd9b71ed11337b2b04c1a35f5d5<\/td>\n",
       "      <td>FLUF World<\/td>\n",
       "      <td>0xc02aaa39b223fe8d0a0e5c4f27ead9083c756cc2<\/td>\n",
       "      <td>fluf<\/td>\n",
       "      <td>3.0900<\/td>\n",
       "      <td>3.090<\/td>\n",
       "      <td>0.550162<\/td>\n",
       "      <td>2023-02-15<\/td>\n",
       "      <td>2023-01-16<\/td>\n",
       "      <td>30<\/td>\n",
       "    <\/tr>\n",
       "    <tr>\n",
       "      <th>24866<\/th>\n",
       "      <td>2023-01-16 16:46:47<\/td>\n",
       "      <td>2023-02-15 16:46:47<\/td>\n",
       "      <td>0x5cc5b05a8a13e3fbdb0bb9fccd98d38e50f90c38<\/td>\n",
       "      <td>95255<\/td>\n",
       "      <td>escrow<\/td>\n",
       "      <td>0.700<\/td>\n",
       "      <td>0.000000<\/td>\n",
       "      <td>50.00<\/td>\n",
       "      <td>30.0<\/td>\n",
       "      <td>0x31d75becb2fe9cc60eb4877b44110aa1cdae90a5<\/td>\n",
       "      <td>0x890c7aede8d6b045ad982b3d2524b627e995af18<\/td>\n",
       "      <td>The Sandbox<\/td>\n",
       "      <td>0xc02aaa39b223fe8d0a0e5c4f27ead9083c756cc2<\/td>\n",
       "      <td>sandbox<\/td>\n",
       "      <td>0.9100<\/td>\n",
       "      <td>0.910<\/td>\n",
       "      <td>0.769231<\/td>\n",
       "      <td>2023-02-15<\/td>\n",
       "      <td>2023-01-16<\/td>\n",
       "      <td>30<\/td>\n",
       "    <\/tr>\n",
       "  <\/tbody>\n",
       "<\/table>\n",
       "<p>12750 rows × 20 columns<\/p>\n",
       "<\/div>"
      ]
     },
     "metadata":{
      
     },
     "output_type":"display_data"
    }
   ],
   "metadata":{
    "datalore":{
     "node_id":"f1iON6nSwxcBtww5ANDl5I",
     "type":"CODE",
     "hide_input_from_viewers":false,
     "hide_output_from_viewers":false,
     "report_properties":{
      
     }
    }
   }
  },
  {
   "cell_type":"code",
   "source":[
    "# let's use 30 days as our pool duration, pay every 5 days\n",
    "def get_first_of_month(date):\n",
    "    return datetime(date.year, date.month, 1)\n",
    "\n",
    "# use maturity here since maturity rounded the dates already\n",
    "nft_data_processed['bucket'] = nft_data_processed['loanDueDate'].dt.to_period('M').dt.to_timestamp()\n",
    "nft_data_processed['first_of_due_month'] = nft_data_processed['loanDueDate'].apply(get_first_of_month)\n",
    "nft_data_clean = nft_data_processed[(nft_data_processed.maturity <= 30) & \\\n",
    "                                    (nft_data_processed.loanStartDate <= nft_data_processed['first_of_due_month']) & \\\n",
    "                                    (nft_data_processed.loanDueDate > nft_data_processed['first_of_due_month'])\n",
    "                                   ]\n",
    "print(nft_data_clean['bucket'])"
   ],
   "execution_count":11,
   "outputs":[
    {
     "name":"stdout",
     "text":[
      "1063    2021-10-01\n",
      "1076    2021-10-01\n",
      "1110    2021-10-01\n",
      "1139    2021-10-01\n",
      "1169    2021-10-01\n",
      "           ...    \n",
      "24859   2023-02-01\n",
      "24860   2023-02-01\n",
      "24863   2023-02-01\n",
      "24864   2023-02-01\n",
      "24866   2023-02-01\n",
      "Name: bucket, Length: 7958, dtype: datetime64[ns]\n"
     ],
     "output_type":"stream"
    },
    {
     "name":"stderr",
     "text":[
      "<ipython-input-11-fe252914aef8>:6: SettingWithCopyWarning: \n",
      "A value is trying to be set on a copy of a slice from a DataFrame.\n",
      "Try using .loc[row_indexer,col_indexer] = value instead\n",
      "\n",
      "See the caveats in the documentation: https:\/\/pandas.pydata.org\/pandas-docs\/stable\/user_guide\/indexing.html#returning-a-view-versus-a-copy\n",
      "  nft_data_processed['bucket'] = nft_data_processed['loanDueDate'].dt.to_period('M').dt.to_timestamp()\n",
      "<ipython-input-11-fe252914aef8>:7: SettingWithCopyWarning: \n",
      "A value is trying to be set on a copy of a slice from a DataFrame.\n",
      "Try using .loc[row_indexer,col_indexer] = value instead\n",
      "\n",
      "See the caveats in the documentation: https:\/\/pandas.pydata.org\/pandas-docs\/stable\/user_guide\/indexing.html#returning-a-view-versus-a-copy\n",
      "  nft_data_processed['first_of_due_month'] = nft_data_processed['loanDueDate'].apply(get_first_of_month)\n"
     ],
     "output_type":"stream"
    }
   ],
   "metadata":{
    "datalore":{
     "node_id":"Rvp5WcHqgTlnirol906ZtR",
     "type":"CODE",
     "hide_input_from_viewers":false,
     "hide_output_from_viewers":false,
     "report_properties":{
      
     }
    }
   }
  },
  {
   "cell_type":"code",
   "source":[
    "nft_data_clean.count()"
   ],
   "execution_count":12,
   "outputs":[
    {
     "data":{
      "text\/html":[
       "<pre>loanStartTime            7958\n",
       "loanDueTime              7958\n",
       "asset_contract           7958\n",
       "item_no                  7958\n",
       "status                   7958\n",
       "loanPrincipalAmount      7958\n",
       "amountPaidToLender       7958\n",
       "APR                      7958\n",
       "loanDuration             7958\n",
       "lender                   7958\n",
       "borrower                 7958\n",
       "assetCategory            7957\n",
       "loanERC20Denomination    7958\n",
       "slug                     7958\n",
       "starting_valuation       7958\n",
       "ending_valuation         7958\n",
       "LTV                      7958\n",
       "loanDueDate              7958\n",
       "loanStartDate            7958\n",
       "maturity                 7958\n",
       "bucket                   7958\n",
       "first_of_due_month       7958\n",
       "dtype: int64<\/pre>"
      ]
     },
     "metadata":{
      
     },
     "output_type":"display_data"
    }
   ],
   "metadata":{
    "datalore":{
     "node_id":"2AkRVff7brlOR9E7nGDgKc",
     "type":"CODE",
     "hide_input_from_viewers":true,
     "hide_output_from_viewers":true
    }
   }
  },
  {
   "cell_type":"code",
   "source":[
    "nft_data_clean['loan_amount_due'] = nft_data_clean['loanPrincipalAmount'] * \\\n",
    "                                    (1+nft_data_clean['APR']\/100 * nft_data_clean['loanDuration']\/360)\n",
    "\n",
    "nft_data_clean[['loanDuration', 'loanPrincipalAmount', 'loan_amount_due', 'amountPaidToLender']]\n",
    "\n",
    "# assume recovery of 0.75\n",
    "nft_data_clean['loan_repayment'] = nft_data_clean['amountPaidToLender']\n",
    "nft_data_clean.loc[nft_data_clean['amountPaidToLender']==0.0, 'loan_repayment'] = nft_data_clean.loc[nft_data_clean['amountPaidToLender']==0.0]['ending_valuation'] * 0.75\n",
    "\n",
    "nft_data_clean.loc[nft_data_clean['amountPaidToLender']==0.0]['loan_repayment']"
   ],
   "execution_count":13,
   "outputs":[
    {
     "name":"stderr",
     "text":[
      "<ipython-input-13-e3b9ab2ebd6a>:1: SettingWithCopyWarning: \n",
      "A value is trying to be set on a copy of a slice from a DataFrame.\n",
      "Try using .loc[row_indexer,col_indexer] = value instead\n",
      "\n",
      "See the caveats in the documentation: https:\/\/pandas.pydata.org\/pandas-docs\/stable\/user_guide\/indexing.html#returning-a-view-versus-a-copy\n",
      "  nft_data_clean['loan_amount_due'] = nft_data_clean['loanPrincipalAmount'] * \\\n",
      "<ipython-input-13-e3b9ab2ebd6a>:7: SettingWithCopyWarning: \n",
      "A value is trying to be set on a copy of a slice from a DataFrame.\n",
      "Try using .loc[row_indexer,col_indexer] = value instead\n",
      "\n",
      "See the caveats in the documentation: https:\/\/pandas.pydata.org\/pandas-docs\/stable\/user_guide\/indexing.html#returning-a-view-versus-a-copy\n",
      "  nft_data_clean['loan_repayment'] = nft_data_clean['amountPaidToLender']\n",
      "\/opt\/python\/envs\/default\/lib\/python3.8\/site-packages\/pandas\/core\/indexing.py:1773: SettingWithCopyWarning: \n",
      "A value is trying to be set on a copy of a slice from a DataFrame.\n",
      "Try using .loc[row_indexer,col_indexer] = value instead\n",
      "\n",
      "See the caveats in the documentation: https:\/\/pandas.pydata.org\/pandas-docs\/stable\/user_guide\/indexing.html#returning-a-view-versus-a-copy\n",
      "  self._setitem_single_column(ilocs[0], value, pi)\n"
     ],
     "output_type":"stream"
    },
    {
     "data":{
      "text\/html":[
       "<pre>1277     6.66000\n",
       "1308     0.67500\n",
       "1325     0.60750\n",
       "1326     0.60750\n",
       "1334     0.78750\n",
       "          ...   \n",
       "24859    0.49950\n",
       "24860    1.27125\n",
       "24863    4.31250\n",
       "24864    2.31750\n",
       "24866    0.68250\n",
       "Name: loan_repayment, Length: 1275, dtype: float64<\/pre>"
      ]
     },
     "metadata":{
      
     },
     "output_type":"display_data"
    }
   ],
   "metadata":{
    "datalore":{
     "node_id":"AxCOdFDwenZXvEfbLD155D",
     "type":"CODE",
     "hide_input_from_viewers":true,
     "hide_output_from_viewers":true
    }
   }
  },
  {
   "cell_type":"markdown",
   "source":[
    "## principal paid over time -> for pool amount\n",
    "## repayment -> wacc"
   ],
   "attachments":{
    
   },
   "metadata":{
    "datalore":{
     "node_id":"W2lXIB5i6N0As92vJ6LDqu",
     "type":"MD",
     "hide_input_from_viewers":false,
     "hide_output_from_viewers":false,
     "report_properties":{
      
     }
    }
   }
  },
  {
   "cell_type":"code",
   "source":[
    "\n",
    "def population_check(nft_data_clean):\n",
    "    # every 30 days, how many\/how much loans are maturing; default % in $ and in count\n",
    "    # USD face value for reference\n",
    "    monthly_df = pd.DataFrame()\n",
    "    monthly_df['apr'] = nft_data_clean.groupby('bucket')['APR'].mean()\n",
    "    monthly_df['loan_amt'] = nft_data_clean.groupby('bucket')['loanPrincipalAmount'].sum()\n",
    "    monthly_df['loan_cnt'] = nft_data_clean.groupby('bucket')['loanPrincipalAmount'].count()\n",
    "    monthly_df['repaid_loan_amt_pct'] = nft_data_clean[nft_data_clean['status']=='repaid'].groupby('bucket')\\\n",
    "                                 ['loanPrincipalAmount'].sum() \\\n",
    "                                \/ monthly_df['loan_amt'] \n",
    "    monthly_df['repaid_loan_cnt_pct'] = nft_data_clean[nft_data_clean['status']=='repaid'].groupby('bucket')\\\n",
    "                                 ['loanPrincipalAmount'].count() \\\n",
    "                                \/ monthly_df['loan_cnt']\n",
    "    \n",
    "    ## principal+interest paid over time -> for wac\n",
    "    monthly_df['loan_amt_w_intrst'] = nft_data_clean.groupby('bucket')['loan_amount_due'].sum()\n",
    "    monthly_df['repaid_loan_amt_w_intrst'] = nft_data_clean.groupby('bucket')['amountPaidToLender'].sum()\n",
    "    monthly_df['repaid_loan_amt_w_intrst_pct'] = monthly_df['repaid_loan_amt_w_intrst'] \/ monthly_df['loan_amt_w_intrst']\n",
    "    monthly_df['repaid_loan_amt_wo_intrst_pct'] = monthly_df['repaid_loan_amt_w_intrst'] \/ monthly_df['loan_amt']\n",
    "    monthly_df['repaid_w_rcvr_pct'] = nft_data_clean.groupby('bucket')['loan_repayment'].sum() \/ monthly_df['loan_amt']\n",
    "\n",
    "    ## average aggregated LTV at beginning and end:\n",
    "    monthly_df['agg_ltv_start'] = monthly_df['loan_amt'] \/ nft_data_clean.groupby('bucket')['starting_valuation'].sum()\n",
    "    monthly_df['agg_ltv_end'] = monthly_df['loan_amt'] \/ nft_data_clean.groupby('bucket')['ending_valuation'].sum()\n",
    "    \n",
    "    # denominations check:\n",
    "    print(f\"denominations: {nft_data_clean['loanERC20Denomination'].unique()}\") # only 1 denomination, good\n",
    "    return monthly_df\n"
   ],
   "execution_count":14,
   "outputs":[
    
   ],
   "metadata":{
    "datalore":{
     "node_id":"heSOL1gcuHFRkQ5paW8eh8",
     "type":"CODE",
     "hide_input_from_viewers":false,
     "hide_output_from_viewers":false,
     "report_properties":{
      
     }
    }
   }
  },
  {
   "cell_type":"code",
   "source":[
    "pop = population_check(nft_data_clean)\n",
    "a = pop[['loan_amt', 'loan_cnt']].plot(secondary_y=['loan_cnt'], figsize=(10,6))\n",
    "a.set_ylabel('monthly loan amount', fontsize=15)\n",
    "plt.ylabel('monthly loan count', fontsize=15)\n",
    "plt.xlabel('time', fontsize=15)\n",
    "plt.title('monthly loan counts and loan amounts over time', fontsize=15)\n",
    "plt.savefig('monthly loan counts and loan amounts over time.png')"
   ],
   "execution_count":31,
   "outputs":[
    {
     "name":"stdout",
     "text":[
      "denominations: ['0xc02aaa39b223fe8d0a0e5c4f27ead9083c756cc2']\n"
     ],
     "output_type":"stream"
    },
    {
     "data":{
      "image\/png":"[encoded data removed]"
     },
     "metadata":{
      "image\/png":{
       
      }
     },
     "output_type":"display_data"
    }
   ],
   "metadata":{
    "datalore":{
     "node_id":"4cauKSwHUTxmLP9Zfcb1UG",
     "type":"CODE",
     "hide_input_from_viewers":true,
     "hide_output_from_viewers":true
    }
   }
  },
  {
   "cell_type":"code",
   "source":[
    "a"
   ],
   "execution_count":24,
   "outputs":[
    {
     "data":{
      "text\/plain":[
       "<AxesSubplot:xlabel='bucket', ylabel='monthly loan amount'>"
      ]
     },
     "metadata":{
      
     },
     "output_type":"display_data"
    }
   ],
   "metadata":{
    "datalore":{
     "node_id":"qcfdrvrUTtX7JkCnOM5c9c",
     "type":"CODE",
     "hide_input_from_viewers":true,
     "hide_output_from_viewers":true
    }
   }
  },
  {
   "cell_type":"code",
   "source":[
    "pop['apr'].plot()\n",
    "plt.title('monthly average APR across time')\n",
    "plt.ylabel('annualized APR in %')\n",
    "plt.xlabel('time')\n",
    "plt.savefig('monthly average APR across time.png')\n",
    "print(pop['apr'].tail())"
   ],
   "execution_count":16,
   "outputs":[
    {
     "name":"stdout",
     "text":[
      "bucket\n",
      "2022-10-01    55.695150\n",
      "2022-11-01    54.206082\n",
      "2022-12-01    60.763927\n",
      "2023-01-01    54.419988\n",
      "2023-02-01    49.024358\n",
      "Name: apr, dtype: float64\n"
     ],
     "output_type":"stream"
    },
    {
     "data":{
      "image\/png":"[encoded data removed]"
     },
     "metadata":{
      "image\/png":{
       
      }
     },
     "output_type":"display_data"
    }
   ],
   "metadata":{
    "datalore":{
     "node_id":"zZRhXv0Y6YhOKFwiWSwb5S",
     "type":"CODE",
     "hide_input_from_viewers":true,
     "hide_output_from_viewers":true
    }
   }
  },
  {
   "cell_type":"code",
   "source":[
    "a = pop[['agg_ltv_start', 'agg_ltv_end']].plot(figsize=(10,6))\n",
    "a.set_ylabel(ylabel='monthly population LTV', fontsize=15)\n",
    "plt.xlabel('time', fontsize=15)\n",
    "plt.title('monthly LTV using underlying value at the beginning and end of loan period over time', fontsize=15)\n",
    "plt.savefig('monthly population LTV using underlying value at the beginning and end of loan period over time.png')"
   ],
   "execution_count":36,
   "outputs":[
    {
     "data":{
      "image\/png":"[encoded data removed]"
     },
     "metadata":{
      "image\/png":{
       
      }
     },
     "output_type":"display_data"
    }
   ],
   "metadata":{
    "datalore":{
     "node_id":"DGG6vpuZujVg8NqRlq2gQi",
     "type":"CODE",
     "hide_input_from_viewers":true,
     "hide_output_from_viewers":true
    }
   }
  },
  {
   "cell_type":"code",
   "source":[
    "(pop[['repaid_loan_amt_w_intrst_pct', 'repaid_loan_amt_wo_intrst_pct', 'repaid_w_rcvr_pct']]*100).plot(figsize=(12,6))\n",
    "plt.ylabel(ylabel='monthly repayment values as percentages', fontsize=15)\n",
    "plt.xlabel('time', fontsize=15)\n",
    "plt.title('monthly repayment values as a percentage of: 1) amount due w interest 2) principal due 3) principal due including recovery over time', fontsize=12)\n",
    "plt.savefig('monthly repayment values as a percentage of: 1) amount due w interest 2) principal due 3) principal due including recovery over time.png')\n",
    "plt.axhline(y=100, color='r', linestyle = 'dashed')"
   ],
   "execution_count":35,
   "outputs":[
    {
     "data":{
      "text\/plain":[
       "<matplotlib.lines.Line2D at 0x7fb2e8ad0b20>"
      ]
     },
     "metadata":{
      
     },
     "output_type":"display_data"
    },
    {
     "data":{
      "image\/png":"[encoded data removed]"
     },
     "metadata":{
      "image\/png":{
       
      }
     },
     "output_type":"display_data"
    }
   ],
   "metadata":{
    "datalore":{
     "node_id":"Dx4UzNmyF5UYVWwcEvL37L",
     "type":"CODE",
     "hide_input_from_viewers":true,
     "hide_output_from_viewers":true
    }
   }
  },
  {
   "cell_type":"code",
   "source":[
    "## nft repayment differs based on whitelist; whitelist safer; remove?\n",
    "nft_data_whitelist = nft_data_clean[nft_data_clean['slug'].isin(whitelist['slug'].tolist())]\n",
    "pop_whitelist = population_check(nft_data_whitelist)\n",
    "(nft_data_whitelist.groupby(['bucket']).count()\/nft_data_clean.groupby(['bucket']).count())['asset_contract'].plot()\n",
    "plt.title('percentage of whitelist loans over time')\n",
    "plt.ylabel('percentage of whitelist loans')\n",
    "plt.xlabel('time')\n",
    "plt.savefig('percentage of whitelist loans over time.png')"
   ],
   "execution_count":19,
   "outputs":[
    {
     "name":"stdout",
     "text":[
      "denominations: ['0xc02aaa39b223fe8d0a0e5c4f27ead9083c756cc2']\n"
     ],
     "output_type":"stream"
    },
    {
     "data":{
      "image\/png":"[encoded data removed]"
     },
     "metadata":{
      "image\/png":{
       
      }
     },
     "output_type":"display_data"
    }
   ],
   "metadata":{
    "datalore":{
     "node_id":"zNGF51yRK8amrZJ0UekfiK",
     "type":"CODE",
     "hide_input_from_viewers":false,
     "hide_output_from_viewers":false,
     "report_properties":{
      
     }
    }
   }
  },
  {
   "cell_type":"code",
   "source":[
    "# whitelist and low LTV\n",
    "# nft_data_whitelist_low_ltv = nft_data_clean[(nft_data_clean['slug'].isin(whitelist['slug'].tolist())) & (nft_data_clean['LTV'] <= 1 )]\n",
    "# pop_whitelist_low_ltv = population_check(nft_data_whitelist_low_ltv)\n",
    "# pop_whitelist_low_ltv#[['loan_amt', 'loan_cnt', 'loan_amt_pct', 'loan_cnt_pct', 'repaid_w_intrst_pct', 'wavg_ltv_start', 'wavg_ltv_end']]\n"
   ],
   "execution_count":20,
   "outputs":[
    
   ],
   "metadata":{
    "datalore":{
     "node_id":"mUXUcJwYJHLha7vQWkEKZb",
     "type":"CODE",
     "hide_input_from_viewers":true,
     "hide_output_from_viewers":true
    }
   }
  },
  {
   "cell_type":"code",
   "source":[
    "# nft_data_whitelist_low_ltv"
   ],
   "execution_count":21,
   "outputs":[
    
   ],
   "metadata":{
    "datalore":{
     "node_id":"oNU8aij1pe4X2OC8TtacHD",
     "type":"CODE",
     "hide_input_from_viewers":true,
     "hide_output_from_viewers":true
    }
   }
  },
  {
   "cell_type":"markdown",
   "source":[
    "## realized"
   ],
   "attachments":{
    
   },
   "metadata":{
    "datalore":{
     "node_id":"zgC4sMri9Mj7yJzlW8k5u0",
     "type":"MD",
     "hide_input_from_viewers":false,
     "hide_output_from_viewers":false,
     "report_properties":{
      
     }
    }
   }
  },
  {
   "cell_type":"code",
   "source":[
    "# inputs: population PER MONTH, target_principal\n",
    "# no_samples (samples to take), cutoff: if number of loans too low to be diversifying\n",
    "# output: list of pools\n",
    "\n",
    "def sample_pools(loans, target_principal, no_samples, seed=125, cutoff=35):\n",
    "    samples=[]\n",
    "    np.random.seed(seed)\n",
    "    for i in range(no_samples):\n",
    "        reordered = loans.sample(n=loans.shape[0])\n",
    "        selected = reordered[reordered['loanPrincipalAmount'].cumsum() >= target_principal]\n",
    "        if selected.index.shape[0] < 1:\n",
    "            continue\n",
    "        \n",
    "        lim = selected.index[0]\n",
    "        # make sure we have over 35 loans in pool\n",
    "        if reordered.loc[:lim, :].shape[0] < cutoff:\n",
    "            continue\n",
    "            \n",
    "        samples.append(reordered.loc[:lim, :])\n",
    "    return samples\n"
   ],
   "execution_count":22,
   "outputs":[
    
   ],
   "metadata":{
    "datalore":{
     "node_id":"NXC1CEJ4tlXeWikEugZdn0",
     "type":"CODE",
     "hide_input_from_viewers":false,
     "hide_output_from_viewers":false,
     "report_properties":{
      
     }
    }
   }
  },
  {
   "cell_type":"markdown",
   "source":[
    "## price with historical loans"
   ],
   "attachments":{
    
   },
   "metadata":{
    "datalore":{
     "node_id":"5RvXQ4rSM7WyTyErPmv1Ai",
     "type":"MD",
     "hide_input_from_viewers":true,
     "hide_output_from_viewers":true
    }
   }
  },
  {
   "cell_type":"code",
   "source":[
    "\n",
    "def calculate_pool_cf(pool, recovery=0.75):\n",
    "    \"\"\"\n",
    "    Split up historical pools cash flows into interest and principal (principal includes recovered defaulted loans),\n",
    "    as well as the time series of remaining balances.\n",
    "    Output: on each of the t days, how much is principal, how much is interest from this pool\n",
    "\n",
    "    Parameters\n",
    "    ----------\n",
    "    pool         -- actual loans that occurred in pool\n",
    "    recovery     -- recovery rate after default\n",
    "    \"\"\"\n",
    "\n",
    "    pool_cp = pool.copy()\n",
    "\n",
    "    # get interest vs principal payments\n",
    "    # recovery value:\n",
    "    pool_cp['recovery_value'] = pool_cp['ending_valuation'] * recovery\n",
    "\n",
    "    # repaid principal:\n",
    "    defaulted = pool_cp.loc[pool_cp['amountPaidToLender']==0.0, :].index\n",
    "    pool_cp['repaid_principal'] = pool_cp['loanPrincipalAmount']\n",
    "    pool_cp.loc[pool_cp['amountPaidToLender']==0.0, 'repaid_principal'] = np.minimum(pool_cp.loc[defaulted]['ending_valuation'] * recovery, pool_cp.loc[defaulted]['loanPrincipalAmount'])\n",
    "\n",
    "    # recovery residual:\n",
    "    pool_cp['recovery_residual'] = 0\n",
    "    pool_cp.loc[pool_cp['amountPaidToLender']==0.0, 'recovery_residual'] = pool_cp.loc[defaulted]['recovery_value'] - pool_cp.loc[defaulted]['repaid_principal']\n",
    "    \n",
    "    # repaid interest\n",
    "    pool_cp['interest'] = np.maximum(0, pool_cp['amountPaidToLender'] - pool_cp['repaid_principal'])\n",
    "\n",
    "    pool_w_dates = pool_cp.groupby(['loanDueDate'])[['amountPaidToLender', 'loanPrincipalAmount', 'loan_repayment', 'repaid_principal', 'interest', 'recovery_residual']].sum()\n",
    "\n",
    "    # get balances: which loans have been accounted for\n",
    "    pool_w_dates['balance'] = pool_w_dates['loanPrincipalAmount'].sum() - pool_w_dates['loanPrincipalAmount'].cumsum()\n",
    "\n",
    "    tmp = pd.DataFrame({'balance': pool_w_dates['loanPrincipalAmount'].sum(), 'loanPrincipalAmount': 0, 'loan_repayment':0, 'repaid_principal':0, 'interest':0, 'recovery_residual': 0}, index=[pool_w_dates.index.min()+DateOffset(days=-1)])\n",
    "\n",
    "    # add zero-th day of balance\n",
    "    pool_w_dates.loc[pool_w_dates.index.min()+DateOffset(days=-1)] = tmp.loc[pool_w_dates.index.min()+DateOffset(days=-1)]\n",
    "    pool_w_dates = pool_w_dates.sort_index()\n",
    "    \n",
    "    return pool_w_dates\n",
    "\n",
    "\n",
    "def calc_io_po(pool_w_dates):\n",
    "    \"\"\"\n",
    "    Calculate the price of IO and PO ffrom daily cashflows.\n",
    "\n",
    "    Parameters\n",
    "    ----------\n",
    "    pool_w_dates -- dated cashflows of pool\n",
    "    \"\"\"    \n",
    "\n",
    "    return {'face_value': pool_w_dates['loanPrincipalAmount'].sum(),\n",
    "            'PO': pool_w_dates['repaid_principal'].sum(),\\\n",
    "            'IO': pool_w_dates['interest'].sum(), \\\n",
    "            'residual': pool_w_dates['recovery_residual'].sum(), \\\n",
    "            'bucket': pool_w_dates.index[0].to_period('M').to_timestamp()\\\n",
    "           }\n",
    "\n",
    "def calc_tranches_by_principal(loan_pool, tranche_principals=None, tranche_aprs=None, dur=34):\n",
    "    \"\"\"\n",
    "    Calculate the price of tranches from daily cashflows.\n",
    "\n",
    "    Parameters\n",
    "    ----------\n",
    "    pool_w_dates    -- loans in pool, no need to flow by date\n",
    "    tranche_cutoffs -- principal values of tranches, can be predetermined by user\n",
    "    interests       -- desired interests for each tranche; can be predetermined by user\n",
    "\n",
    "    returns: {tranche_1: price, ..., residual: price}\n",
    "    \"\"\"\n",
    "    remaining = loan_pool['loan_repayment'].sum()\n",
    "\n",
    "    no_tranches = len(tranche_principals) if tranche_principals else len(tranche_aprs)\n",
    "\n",
    "    # initialize tranche_principals and aprs\n",
    "    tranche_principals = list(tranche_principals if tranche_principals \\\n",
    "                    else np.diff(np.insert([loan_pool['loanPrincipalAmount'].sum() * (i+1)\/no_tranches for i in range(no_tranches)], 0, 0)))\n",
    "    tranche_aprs = list(tranche_aprs if tranche_aprs \\\n",
    "              else [loan_pool['APR'].quantile((i+1)\/(no_tranches+1)\/2) for i in range(no_tranches)])\n",
    "\n",
    "    # initialize residual tranche\n",
    "    tranche_principals.append(0)\n",
    "    tranche_aprs.append(0)\n",
    "\n",
    "    res = dict() #{'principal': tranche_principals, 'APR': tranche_aprs, 'valuation': [], 'no_default_valuation': []}\n",
    "\n",
    "    for i in range(no_tranches):\n",
    "        res[f'principal_{i+1}'] = tranche_principals[i]\n",
    "        res[f'apr_{i+1}'] = tranche_aprs[i]\n",
    "\n",
    "        no_default_val = tranche_principals[i] * (1+tranche_aprs[i]\/100 * dur\/360)\n",
    "        val = np.minimum(remaining, no_default_val)\n",
    "\n",
    "        res[f'valuation_{i+1}'] = val\n",
    "        res[f'no_default_val_{i+1}'] = no_default_val\n",
    "        remaining -= val\n",
    "\n",
    "    res['valuation_residual'] = remaining\n",
    "    res['no_default_valuation_residual'] = 0\n",
    "\n",
    "\n",
    "    # now normalize everything to $1 unit:\n",
    "    for i in range(no_tranches):\n",
    "        res[f'valuation_{i+1}\/face_value'] = res[f'valuation_{i+1}'] \/ res[f'principal_{i+1}']\n",
    "\n",
    "    # not necessarily useful; only for completeness\n",
    "    res['valuation_residual\/face_value'] = res['valuation_residual'] \/ loan_pool['loanPrincipalAmount'].sum()\n",
    "\n",
    "    res['bucket'] = loan_pool['bucket'].iloc[0]\n",
    "\n",
    "    return res\n"
   ],
   "execution_count":23,
   "outputs":[
    
   ],
   "metadata":{
    "datalore":{
     "node_id":"tCtbYMI6Qh4PxlfffcVtEY",
     "type":"CODE",
     "hide_input_from_viewers":true,
     "hide_output_from_viewers":true
    }
   }
  },
  {
   "cell_type":"markdown",
   "source":[
    "## Stability Evaluation and Confidence Interval using historical methods"
   ],
   "attachments":{
    
   },
   "metadata":{
    "datalore":{
     "node_id":"NcAOa6VYAltvGuNFTi1gje",
     "type":"MD",
     "hide_input_from_viewers":true,
     "hide_output_from_viewers":true
    }
   }
  },
  {
   "cell_type":"code",
   "source":[
    "nft_data_whitelist.groupby(['bucket']).count()"
   ],
   "execution_count":24,
   "outputs":[
    {
     "data":{
      "text\/html":[
       "<div>\n",
       "<style scoped>\n",
       "    .dataframe tbody tr th:only-of-type {\n",
       "        vertical-align: middle;\n",
       "    }\n",
       "\n",
       "    .dataframe tbody tr th {\n",
       "        vertical-align: top;\n",
       "    }\n",
       "\n",
       "    .dataframe thead th {\n",
       "        text-align: right;\n",
       "    }\n",
       "<\/style>\n",
       "<table border=\"1\" class=\"dataframe\">\n",
       "  <thead>\n",
       "    <tr style=\"text-align: right;\">\n",
       "      <th><\/th>\n",
       "      <th>loanStartTime<\/th>\n",
       "      <th>loanDueTime<\/th>\n",
       "      <th>asset_contract<\/th>\n",
       "      <th>item_no<\/th>\n",
       "      <th>status<\/th>\n",
       "      <th>loanPrincipalAmount<\/th>\n",
       "      <th>amountPaidToLender<\/th>\n",
       "      <th>APR<\/th>\n",
       "      <th>loanDuration<\/th>\n",
       "      <th>lender<\/th>\n",
       "      <th>...<\/th>\n",
       "      <th>slug<\/th>\n",
       "      <th>starting_valuation<\/th>\n",
       "      <th>ending_valuation<\/th>\n",
       "      <th>LTV<\/th>\n",
       "      <th>loanDueDate<\/th>\n",
       "      <th>loanStartDate<\/th>\n",
       "      <th>maturity<\/th>\n",
       "      <th>first_of_due_month<\/th>\n",
       "      <th>loan_amount_due<\/th>\n",
       "      <th>loan_repayment<\/th>\n",
       "    <\/tr>\n",
       "    <tr>\n",
       "      <th>bucket<\/th>\n",
       "      <th><\/th>\n",
       "      <th><\/th>\n",
       "      <th><\/th>\n",
       "      <th><\/th>\n",
       "      <th><\/th>\n",
       "      <th><\/th>\n",
       "      <th><\/th>\n",
       "      <th><\/th>\n",
       "      <th><\/th>\n",
       "      <th><\/th>\n",
       "      <th><\/th>\n",
       "      <th><\/th>\n",
       "      <th><\/th>\n",
       "      <th><\/th>\n",
       "      <th><\/th>\n",
       "      <th><\/th>\n",
       "      <th><\/th>\n",
       "      <th><\/th>\n",
       "      <th><\/th>\n",
       "      <th><\/th>\n",
       "      <th><\/th>\n",
       "    <\/tr>\n",
       "  <\/thead>\n",
       "  <tbody>\n",
       "    <tr>\n",
       "      <th>2021-10-01<\/th>\n",
       "      <td>4<\/td>\n",
       "      <td>4<\/td>\n",
       "      <td>4<\/td>\n",
       "      <td>4<\/td>\n",
       "      <td>4<\/td>\n",
       "      <td>4<\/td>\n",
       "      <td>4<\/td>\n",
       "      <td>4<\/td>\n",
       "      <td>4<\/td>\n",
       "      <td>4<\/td>\n",
       "      <td>...<\/td>\n",
       "      <td>4<\/td>\n",
       "      <td>4<\/td>\n",
       "      <td>4<\/td>\n",
       "      <td>4<\/td>\n",
       "      <td>4<\/td>\n",
       "      <td>4<\/td>\n",
       "      <td>4<\/td>\n",
       "      <td>4<\/td>\n",
       "      <td>4<\/td>\n",
       "      <td>4<\/td>\n",
       "    <\/tr>\n",
       "    <tr>\n",
       "      <th>2021-11-01<\/th>\n",
       "      <td>12<\/td>\n",
       "      <td>12<\/td>\n",
       "      <td>12<\/td>\n",
       "      <td>12<\/td>\n",
       "      <td>12<\/td>\n",
       "      <td>12<\/td>\n",
       "      <td>12<\/td>\n",
       "      <td>12<\/td>\n",
       "      <td>12<\/td>\n",
       "      <td>12<\/td>\n",
       "      <td>...<\/td>\n",
       "      <td>12<\/td>\n",
       "      <td>12<\/td>\n",
       "      <td>12<\/td>\n",
       "      <td>12<\/td>\n",
       "      <td>12<\/td>\n",
       "      <td>12<\/td>\n",
       "      <td>12<\/td>\n",
       "      <td>12<\/td>\n",
       "      <td>12<\/td>\n",
       "      <td>12<\/td>\n",
       "    <\/tr>\n",
       "    <tr>\n",
       "      <th>2021-12-01<\/th>\n",
       "      <td>10<\/td>\n",
       "      <td>10<\/td>\n",
       "      <td>10<\/td>\n",
       "      <td>10<\/td>\n",
       "      <td>10<\/td>\n",
       "      <td>10<\/td>\n",
       "      <td>10<\/td>\n",
       "      <td>10<\/td>\n",
       "      <td>10<\/td>\n",
       "      <td>10<\/td>\n",
       "      <td>...<\/td>\n",
       "      <td>10<\/td>\n",
       "      <td>10<\/td>\n",
       "      <td>10<\/td>\n",
       "      <td>10<\/td>\n",
       "      <td>10<\/td>\n",
       "      <td>10<\/td>\n",
       "      <td>10<\/td>\n",
       "      <td>10<\/td>\n",
       "      <td>10<\/td>\n",
       "      <td>10<\/td>\n",
       "    <\/tr>\n",
       "    <tr>\n",
       "      <th>2022-01-01<\/th>\n",
       "      <td>70<\/td>\n",
       "      <td>70<\/td>\n",
       "      <td>70<\/td>\n",
       "      <td>70<\/td>\n",
       "      <td>70<\/td>\n",
       "      <td>70<\/td>\n",
       "      <td>70<\/td>\n",
       "      <td>70<\/td>\n",
       "      <td>70<\/td>\n",
       "      <td>70<\/td>\n",
       "      <td>...<\/td>\n",
       "      <td>70<\/td>\n",
       "      <td>70<\/td>\n",
       "      <td>70<\/td>\n",
       "      <td>70<\/td>\n",
       "      <td>70<\/td>\n",
       "      <td>70<\/td>\n",
       "      <td>70<\/td>\n",
       "      <td>70<\/td>\n",
       "      <td>70<\/td>\n",
       "      <td>70<\/td>\n",
       "    <\/tr>\n",
       "    <tr>\n",
       "      <th>2022-02-01<\/th>\n",
       "      <td>168<\/td>\n",
       "      <td>168<\/td>\n",
       "      <td>168<\/td>\n",
       "      <td>168<\/td>\n",
       "      <td>168<\/td>\n",
       "      <td>168<\/td>\n",
       "      <td>168<\/td>\n",
       "      <td>168<\/td>\n",
       "      <td>168<\/td>\n",
       "      <td>168<\/td>\n",
       "      <td>...<\/td>\n",
       "      <td>168<\/td>\n",
       "      <td>168<\/td>\n",
       "      <td>168<\/td>\n",
       "      <td>168<\/td>\n",
       "      <td>168<\/td>\n",
       "      <td>168<\/td>\n",
       "      <td>168<\/td>\n",
       "      <td>168<\/td>\n",
       "      <td>168<\/td>\n",
       "      <td>168<\/td>\n",
       "    <\/tr>\n",
       "    <tr>\n",
       "      <th>2022-03-01<\/th>\n",
       "      <td>205<\/td>\n",
       "      <td>205<\/td>\n",
       "      <td>205<\/td>\n",
       "      <td>205<\/td>\n",
       "      <td>205<\/td>\n",
       "      <td>205<\/td>\n",
       "      <td>205<\/td>\n",
       "      <td>205<\/td>\n",
       "      <td>205<\/td>\n",
       "      <td>205<\/td>\n",
       "      <td>...<\/td>\n",
       "      <td>205<\/td>\n",
       "      <td>205<\/td>\n",
       "      <td>205<\/td>\n",
       "      <td>205<\/td>\n",
       "      <td>205<\/td>\n",
       "      <td>205<\/td>\n",
       "      <td>205<\/td>\n",
       "      <td>205<\/td>\n",
       "      <td>205<\/td>\n",
       "      <td>205<\/td>\n",
       "    <\/tr>\n",
       "    <tr>\n",
       "      <th>2022-04-01<\/th>\n",
       "      <td>281<\/td>\n",
       "      <td>281<\/td>\n",
       "      <td>281<\/td>\n",
       "      <td>281<\/td>\n",
       "      <td>281<\/td>\n",
       "      <td>281<\/td>\n",
       "      <td>281<\/td>\n",
       "      <td>281<\/td>\n",
       "      <td>281<\/td>\n",
       "      <td>281<\/td>\n",
       "      <td>...<\/td>\n",
       "      <td>281<\/td>\n",
       "      <td>281<\/td>\n",
       "      <td>281<\/td>\n",
       "      <td>281<\/td>\n",
       "      <td>281<\/td>\n",
       "      <td>281<\/td>\n",
       "      <td>281<\/td>\n",
       "      <td>281<\/td>\n",
       "      <td>281<\/td>\n",
       "      <td>281<\/td>\n",
       "    <\/tr>\n",
       "    <tr>\n",
       "      <th>2022-05-01<\/th>\n",
       "      <td>505<\/td>\n",
       "      <td>505<\/td>\n",
       "      <td>505<\/td>\n",
       "      <td>505<\/td>\n",
       "      <td>505<\/td>\n",
       "      <td>505<\/td>\n",
       "      <td>505<\/td>\n",
       "      <td>505<\/td>\n",
       "      <td>505<\/td>\n",
       "      <td>505<\/td>\n",
       "      <td>...<\/td>\n",
       "      <td>505<\/td>\n",
       "      <td>505<\/td>\n",
       "      <td>505<\/td>\n",
       "      <td>505<\/td>\n",
       "      <td>505<\/td>\n",
       "      <td>505<\/td>\n",
       "      <td>505<\/td>\n",
       "      <td>505<\/td>\n",
       "      <td>505<\/td>\n",
       "      <td>505<\/td>\n",
       "    <\/tr>\n",
       "    <tr>\n",
       "      <th>2022-06-01<\/th>\n",
       "      <td>475<\/td>\n",
       "      <td>475<\/td>\n",
       "      <td>475<\/td>\n",
       "      <td>475<\/td>\n",
       "      <td>475<\/td>\n",
       "      <td>475<\/td>\n",
       "      <td>475<\/td>\n",
       "      <td>475<\/td>\n",
       "      <td>475<\/td>\n",
       "      <td>475<\/td>\n",
       "      <td>...<\/td>\n",
       "      <td>475<\/td>\n",
       "      <td>475<\/td>\n",
       "      <td>475<\/td>\n",
       "      <td>475<\/td>\n",
       "      <td>475<\/td>\n",
       "      <td>475<\/td>\n",
       "      <td>475<\/td>\n",
       "      <td>475<\/td>\n",
       "      <td>475<\/td>\n",
       "      <td>475<\/td>\n",
       "    <\/tr>\n",
       "    <tr>\n",
       "      <th>2022-07-01<\/th>\n",
       "      <td>358<\/td>\n",
       "      <td>358<\/td>\n",
       "      <td>358<\/td>\n",
       "      <td>358<\/td>\n",
       "      <td>358<\/td>\n",
       "      <td>358<\/td>\n",
       "      <td>358<\/td>\n",
       "      <td>358<\/td>\n",
       "      <td>358<\/td>\n",
       "      <td>358<\/td>\n",
       "      <td>...<\/td>\n",
       "      <td>358<\/td>\n",
       "      <td>358<\/td>\n",
       "      <td>358<\/td>\n",
       "      <td>358<\/td>\n",
       "      <td>358<\/td>\n",
       "      <td>358<\/td>\n",
       "      <td>358<\/td>\n",
       "      <td>358<\/td>\n",
       "      <td>358<\/td>\n",
       "      <td>358<\/td>\n",
       "    <\/tr>\n",
       "    <tr>\n",
       "      <th>2022-08-01<\/th>\n",
       "      <td>386<\/td>\n",
       "      <td>386<\/td>\n",
       "      <td>386<\/td>\n",
       "      <td>386<\/td>\n",
       "      <td>386<\/td>\n",
       "      <td>386<\/td>\n",
       "      <td>386<\/td>\n",
       "      <td>386<\/td>\n",
       "      <td>386<\/td>\n",
       "      <td>386<\/td>\n",
       "      <td>...<\/td>\n",
       "      <td>386<\/td>\n",
       "      <td>386<\/td>\n",
       "      <td>386<\/td>\n",
       "      <td>386<\/td>\n",
       "      <td>386<\/td>\n",
       "      <td>386<\/td>\n",
       "      <td>386<\/td>\n",
       "      <td>386<\/td>\n",
       "      <td>386<\/td>\n",
       "      <td>386<\/td>\n",
       "    <\/tr>\n",
       "    <tr>\n",
       "      <th>2022-09-01<\/th>\n",
       "      <td>517<\/td>\n",
       "      <td>517<\/td>\n",
       "      <td>517<\/td>\n",
       "      <td>517<\/td>\n",
       "      <td>517<\/td>\n",
       "      <td>517<\/td>\n",
       "      <td>517<\/td>\n",
       "      <td>517<\/td>\n",
       "      <td>517<\/td>\n",
       "      <td>517<\/td>\n",
       "      <td>...<\/td>\n",
       "      <td>517<\/td>\n",
       "      <td>517<\/td>\n",
       "      <td>517<\/td>\n",
       "      <td>517<\/td>\n",
       "      <td>517<\/td>\n",
       "      <td>517<\/td>\n",
       "      <td>517<\/td>\n",
       "      <td>517<\/td>\n",
       "      <td>517<\/td>\n",
       "      <td>517<\/td>\n",
       "    <\/tr>\n",
       "    <tr>\n",
       "      <th>2022-10-01<\/th>\n",
       "      <td>577<\/td>\n",
       "      <td>577<\/td>\n",
       "      <td>577<\/td>\n",
       "      <td>577<\/td>\n",
       "      <td>577<\/td>\n",
       "      <td>577<\/td>\n",
       "      <td>577<\/td>\n",
       "      <td>577<\/td>\n",
       "      <td>577<\/td>\n",
       "      <td>577<\/td>\n",
       "      <td>...<\/td>\n",
       "      <td>577<\/td>\n",
       "      <td>577<\/td>\n",
       "      <td>577<\/td>\n",
       "      <td>577<\/td>\n",
       "      <td>577<\/td>\n",
       "      <td>577<\/td>\n",
       "      <td>577<\/td>\n",
       "      <td>577<\/td>\n",
       "      <td>577<\/td>\n",
       "      <td>577<\/td>\n",
       "    <\/tr>\n",
       "    <tr>\n",
       "      <th>2022-11-01<\/th>\n",
       "      <td>484<\/td>\n",
       "      <td>484<\/td>\n",
       "      <td>484<\/td>\n",
       "      <td>484<\/td>\n",
       "      <td>484<\/td>\n",
       "      <td>484<\/td>\n",
       "      <td>484<\/td>\n",
       "      <td>484<\/td>\n",
       "      <td>484<\/td>\n",
       "      <td>484<\/td>\n",
       "      <td>...<\/td>\n",
       "      <td>484<\/td>\n",
       "      <td>484<\/td>\n",
       "      <td>484<\/td>\n",
       "      <td>484<\/td>\n",
       "      <td>484<\/td>\n",
       "      <td>484<\/td>\n",
       "      <td>484<\/td>\n",
       "      <td>484<\/td>\n",
       "      <td>484<\/td>\n",
       "      <td>484<\/td>\n",
       "    <\/tr>\n",
       "    <tr>\n",
       "      <th>2022-12-01<\/th>\n",
       "      <td>362<\/td>\n",
       "      <td>362<\/td>\n",
       "      <td>362<\/td>\n",
       "      <td>362<\/td>\n",
       "      <td>362<\/td>\n",
       "      <td>362<\/td>\n",
       "      <td>362<\/td>\n",
       "      <td>362<\/td>\n",
       "      <td>362<\/td>\n",
       "      <td>362<\/td>\n",
       "      <td>...<\/td>\n",
       "      <td>362<\/td>\n",
       "      <td>362<\/td>\n",
       "      <td>362<\/td>\n",
       "      <td>362<\/td>\n",
       "      <td>362<\/td>\n",
       "      <td>362<\/td>\n",
       "      <td>362<\/td>\n",
       "      <td>362<\/td>\n",
       "      <td>362<\/td>\n",
       "      <td>362<\/td>\n",
       "    <\/tr>\n",
       "    <tr>\n",
       "      <th>2023-01-01<\/th>\n",
       "      <td>416<\/td>\n",
       "      <td>416<\/td>\n",
       "      <td>416<\/td>\n",
       "      <td>416<\/td>\n",
       "      <td>416<\/td>\n",
       "      <td>416<\/td>\n",
       "      <td>416<\/td>\n",
       "      <td>416<\/td>\n",
       "      <td>416<\/td>\n",
       "      <td>416<\/td>\n",
       "      <td>...<\/td>\n",
       "      <td>416<\/td>\n",
       "      <td>416<\/td>\n",
       "      <td>416<\/td>\n",
       "      <td>416<\/td>\n",
       "      <td>416<\/td>\n",
       "      <td>416<\/td>\n",
       "      <td>416<\/td>\n",
       "      <td>416<\/td>\n",
       "      <td>416<\/td>\n",
       "      <td>416<\/td>\n",
       "    <\/tr>\n",
       "    <tr>\n",
       "      <th>2023-02-01<\/th>\n",
       "      <td>212<\/td>\n",
       "      <td>212<\/td>\n",
       "      <td>212<\/td>\n",
       "      <td>212<\/td>\n",
       "      <td>212<\/td>\n",
       "      <td>212<\/td>\n",
       "      <td>212<\/td>\n",
       "      <td>212<\/td>\n",
       "      <td>212<\/td>\n",
       "      <td>212<\/td>\n",
       "      <td>...<\/td>\n",
       "      <td>212<\/td>\n",
       "      <td>212<\/td>\n",
       "      <td>212<\/td>\n",
       "      <td>212<\/td>\n",
       "      <td>212<\/td>\n",
       "      <td>212<\/td>\n",
       "      <td>212<\/td>\n",
       "      <td>212<\/td>\n",
       "      <td>212<\/td>\n",
       "      <td>212<\/td>\n",
       "    <\/tr>\n",
       "  <\/tbody>\n",
       "<\/table>\n",
       "<p>17 rows × 23 columns<\/p>\n",
       "<\/div>"
      ]
     },
     "metadata":{
      
     },
     "output_type":"display_data"
    }
   ],
   "metadata":{
    "datalore":{
     "node_id":"aAqujNYbYiVl8c3ZSwPCLV",
     "type":"CODE",
     "hide_input_from_viewers":true,
     "hide_output_from_viewers":true
    }
   }
  },
  {
   "cell_type":"code",
   "source":[
    "nft_data_clean.count()"
   ],
   "execution_count":25,
   "outputs":[
    {
     "data":{
      "text\/html":[
       "<pre>loanStartTime            7958\n",
       "loanDueTime              7958\n",
       "asset_contract           7958\n",
       "item_no                  7958\n",
       "status                   7958\n",
       "loanPrincipalAmount      7958\n",
       "amountPaidToLender       7958\n",
       "APR                      7958\n",
       "loanDuration             7958\n",
       "lender                   7958\n",
       "borrower                 7958\n",
       "assetCategory            7957\n",
       "loanERC20Denomination    7958\n",
       "slug                     7958\n",
       "starting_valuation       7958\n",
       "ending_valuation         7958\n",
       "LTV                      7958\n",
       "loanDueDate              7958\n",
       "loanStartDate            7958\n",
       "maturity                 7958\n",
       "bucket                   7958\n",
       "first_of_due_month       7958\n",
       "loan_amount_due          7958\n",
       "loan_repayment           7958\n",
       "dtype: int64<\/pre>"
      ]
     },
     "metadata":{
      
     },
     "output_type":"display_data"
    }
   ],
   "metadata":{
    "datalore":{
     "node_id":"v4DgdIUBjXsP3ooVUUf3Rt",
     "type":"CODE",
     "hide_input_from_viewers":true,
     "hide_output_from_viewers":true
    }
   }
  },
  {
   "cell_type":"code",
   "source":[
    "target_principal=200\n",
    "# no_samples=200 # dynamically decide number of samples to take to avoid oversampling\n",
    "seed=125\n",
    "cutoff=30\n",
    "\n",
    "buckets = nft_data_clean['bucket'].unique()\n",
    "print(buckets)\n",
    "sample_pool = []\n",
    "for bucket in buckets:\n",
    "    bucket_data = nft_data_clean[nft_data_clean['bucket']==bucket]\n",
    "    cur = sample_pools(bucket_data,\n",
    "             target_principal=target_principal, no_samples=int(np.ceil(bucket_data.shape[0]\/3)), seed=seed, cutoff=cutoff)\n",
    "    if cur:\n",
    "        sample_pool.extend(cur)"
   ],
   "execution_count":26,
   "outputs":[
    {
     "name":"stdout",
     "text":[
      "['2021-10-01T00:00:00.000000000' '2021-11-01T00:00:00.000000000'\n",
      " '2021-12-01T00:00:00.000000000' '2022-01-01T00:00:00.000000000'\n",
      " '2022-02-01T00:00:00.000000000' '2022-03-01T00:00:00.000000000'\n",
      " '2022-04-01T00:00:00.000000000' '2022-05-01T00:00:00.000000000'\n",
      " '2022-06-01T00:00:00.000000000' '2022-07-01T00:00:00.000000000'\n",
      " '2022-08-01T00:00:00.000000000' '2022-09-01T00:00:00.000000000'\n",
      " '2022-10-01T00:00:00.000000000' '2022-11-01T00:00:00.000000000'\n",
      " '2022-12-01T00:00:00.000000000' '2023-01-01T00:00:00.000000000'\n",
      " '2023-02-01T00:00:00.000000000']\n"
     ],
     "output_type":"stream"
    }
   ],
   "metadata":{
    "datalore":{
     "node_id":"IBYKFoeE450JsEVPqBhmAX",
     "type":"CODE",
     "hide_input_from_viewers":true,
     "hide_output_from_viewers":true
    }
   }
  },
  {
   "cell_type":"code",
   "source":[
    "print(nft_data_clean['bucket'])"
   ],
   "execution_count":27,
   "outputs":[
    {
     "name":"stdout",
     "text":[
      "1063    2021-10-01\n",
      "1076    2021-10-01\n",
      "1110    2021-10-01\n",
      "1139    2021-10-01\n",
      "1169    2021-10-01\n",
      "           ...    \n",
      "24859   2023-02-01\n",
      "24860   2023-02-01\n",
      "24863   2023-02-01\n",
      "24864   2023-02-01\n",
      "24866   2023-02-01\n",
      "Name: bucket, Length: 7958, dtype: datetime64[ns]\n"
     ],
     "output_type":"stream"
    }
   ],
   "metadata":{
    "datalore":{
     "node_id":"y6YdZbBe59QBicgw0A1EfE",
     "type":"CODE",
     "hide_input_from_viewers":true,
     "hide_output_from_viewers":true
    }
   }
  },
  {
   "cell_type":"code",
   "source":[
    "# make sure we have a good number of loans and we cover a good number of dates\n",
    "print(len(sample_pool))\n",
    "print('available loans:')\n",
    "print(pd.Series([pool['bucket'].iloc[0] for pool in sample_pool]).unique())"
   ],
   "execution_count":28,
   "outputs":[
    {
     "name":"stdout",
     "text":[
      "1373\n",
      "available loans:\n",
      "['2022-01-01T00:00:00.000000000' '2022-02-01T00:00:00.000000000'\n",
      " '2022-03-01T00:00:00.000000000' '2022-04-01T00:00:00.000000000'\n",
      " '2022-05-01T00:00:00.000000000' '2022-06-01T00:00:00.000000000'\n",
      " '2022-07-01T00:00:00.000000000' '2022-08-01T00:00:00.000000000'\n",
      " '2022-09-01T00:00:00.000000000' '2022-10-01T00:00:00.000000000'\n",
      " '2022-11-01T00:00:00.000000000' '2022-12-01T00:00:00.000000000'\n",
      " '2023-01-01T00:00:00.000000000' '2023-02-01T00:00:00.000000000']\n"
     ],
     "output_type":"stream"
    }
   ],
   "metadata":{
    "datalore":{
     "node_id":"UacaCsXSfNHbw1yUIVtfjn",
     "type":"CODE",
     "hide_input_from_viewers":true,
     "hide_output_from_viewers":true
    }
   }
  },
  {
   "cell_type":"code",
   "source":[
    "# make sure the samplings are actually different among each month\n",
    "print(sample_pool[0].head()['bucket'])\n",
    "print(sample_pool[1].head()['bucket'])\n",
    "print(sample_pool[2].head()['bucket'])"
   ],
   "execution_count":29,
   "outputs":[
    {
     "name":"stdout",
     "text":[
      "2596   2022-01-01\n",
      "2279   2022-01-01\n",
      "2106   2022-01-01\n",
      "2420   2022-01-01\n",
      "2475   2022-01-01\n",
      "Name: bucket, dtype: datetime64[ns]\n",
      "2566   2022-01-01\n",
      "2270   2022-01-01\n",
      "2205   2022-01-01\n",
      "2535   2022-01-01\n",
      "2286   2022-01-01\n",
      "Name: bucket, dtype: datetime64[ns]\n",
      "2562   2022-01-01\n",
      "2566   2022-01-01\n",
      "2511   2022-01-01\n",
      "2310   2022-01-01\n",
      "2556   2022-01-01\n",
      "Name: bucket, dtype: datetime64[ns]\n"
     ],
     "output_type":"stream"
    }
   ],
   "metadata":{
    "datalore":{
     "node_id":"K973PplHyZPWUDkMqTSCBF",
     "type":"CODE",
     "hide_input_from_viewers":true,
     "hide_output_from_viewers":true
    }
   }
  },
  {
   "cell_type":"code",
   "source":[
    "pd.Series([i.shape[0] for i in sample_pool]).hist()\n",
    "plt.title('histogram of number of loans in a pool')\n",
    "plt.ylabel('frequency')\n",
    "plt.xlabel('number of loans in a pool')\n",
    "plt.savefig(\"histogram of number of loans in a pool.png\")"
   ],
   "execution_count":30,
   "outputs":[
    {
     "data":{
      "image\/png":"[encoded data removed]"
     },
     "metadata":{
      "image\/png":{
       
      }
     },
     "output_type":"display_data"
    }
   ],
   "metadata":{
    "datalore":{
     "node_id":"cxYxluAC3tcNfqJ9xUqlMw",
     "type":"CODE",
     "hide_input_from_viewers":true,
     "hide_output_from_viewers":true
    }
   }
  },
  {
   "cell_type":"code",
   "source":[
    "pd.Series([i['loanPrincipalAmount'].sum() for i in sample_pool]).hist()\n",
    "plt.title(f\"actual principal of pool given target principal is {target_principal}\")\n",
    "plt.ylabel('frequency')\n",
    "plt.xlabel('realized principal in a pool')\n",
    "plt.savefig(f\"actual principal of pool given target principal.png\")"
   ],
   "execution_count":31,
   "outputs":[
    {
     "data":{
      "image\/png":"[encoded data removed]"
     },
     "metadata":{
      "image\/png":{
       
      }
     },
     "output_type":"display_data"
    }
   ],
   "metadata":{
    "datalore":{
     "node_id":"2FSioHXd9zD3InfHRgaqUx",
     "type":"CODE",
     "hide_input_from_viewers":true,
     "hide_output_from_viewers":true
    }
   }
  },
  {
   "cell_type":"code",
   "source":[
    "iopo_samples = [calc_io_po(calculate_pool_cf(sample_pool[i], recovery=0.75)) for i in range(len(sample_pool))]\n",
    "iopo_samples_df = pd.DataFrame(iopo_samples)\n",
    "\n",
    "# process everything in terms of face value\n",
    "iopo_samples_df['PO\/face_value'] = iopo_samples_df['PO'] \/ iopo_samples_df['face_value']\n",
    "iopo_samples_df['IO\/face_value'] = iopo_samples_df['IO'] \/ iopo_samples_df['face_value']\n",
    "iopo_samples_df['residual\/face_value'] = iopo_samples_df['residual'] \/ iopo_samples_df['face_value']\n",
    "\n",
    "iopo_samples_df"
   ],
   "execution_count":32,
   "outputs":[
    {
     "data":{
      "text\/html":[
       "<div>\n",
       "<style scoped>\n",
       "    .dataframe tbody tr th:only-of-type {\n",
       "        vertical-align: middle;\n",
       "    }\n",
       "\n",
       "    .dataframe tbody tr th {\n",
       "        vertical-align: top;\n",
       "    }\n",
       "\n",
       "    .dataframe thead th {\n",
       "        text-align: right;\n",
       "    }\n",
       "<\/style>\n",
       "<table border=\"1\" class=\"dataframe\">\n",
       "  <thead>\n",
       "    <tr style=\"text-align: right;\">\n",
       "      <th><\/th>\n",
       "      <th>face_value<\/th>\n",
       "      <th>PO<\/th>\n",
       "      <th>IO<\/th>\n",
       "      <th>residual<\/th>\n",
       "      <th>bucket<\/th>\n",
       "      <th>PO\/face_value<\/th>\n",
       "      <th>IO\/face_value<\/th>\n",
       "      <th>residual\/face_value<\/th>\n",
       "    <\/tr>\n",
       "  <\/thead>\n",
       "  <tbody>\n",
       "    <tr>\n",
       "      <th>0<\/th>\n",
       "      <td>202.142796<\/td>\n",
       "      <td>202.142796<\/td>\n",
       "      <td>9.919494<\/td>\n",
       "      <td>0.287375<\/td>\n",
       "      <td>2022-01-01<\/td>\n",
       "      <td>1.000000<\/td>\n",
       "      <td>0.049072<\/td>\n",
       "      <td>0.001422<\/td>\n",
       "    <\/tr>\n",
       "    <tr>\n",
       "      <th>1<\/th>\n",
       "      <td>200.048137<\/td>\n",
       "      <td>197.548137<\/td>\n",
       "      <td>9.873384<\/td>\n",
       "      <td>0.122500<\/td>\n",
       "      <td>2022-01-01<\/td>\n",
       "      <td>0.987503<\/td>\n",
       "      <td>0.049355<\/td>\n",
       "      <td>0.000612<\/td>\n",
       "    <\/tr>\n",
       "    <tr>\n",
       "      <th>2<\/th>\n",
       "      <td>200.635906<\/td>\n",
       "      <td>200.635906<\/td>\n",
       "      <td>8.745235<\/td>\n",
       "      <td>0.409875<\/td>\n",
       "      <td>2022-01-01<\/td>\n",
       "      <td>1.000000<\/td>\n",
       "      <td>0.043588<\/td>\n",
       "      <td>0.002043<\/td>\n",
       "    <\/tr>\n",
       "    <tr>\n",
       "      <th>3<\/th>\n",
       "      <td>205.722316<\/td>\n",
       "      <td>205.722316<\/td>\n",
       "      <td>9.321713<\/td>\n",
       "      <td>0.409875<\/td>\n",
       "      <td>2022-01-01<\/td>\n",
       "      <td>1.000000<\/td>\n",
       "      <td>0.045312<\/td>\n",
       "      <td>0.001992<\/td>\n",
       "    <\/tr>\n",
       "    <tr>\n",
       "      <th>4<\/th>\n",
       "      <td>202.790006<\/td>\n",
       "      <td>200.290006<\/td>\n",
       "      <td>10.919867<\/td>\n",
       "      <td>0.000000<\/td>\n",
       "      <td>2022-01-01<\/td>\n",
       "      <td>0.987672<\/td>\n",
       "      <td>0.053848<\/td>\n",
       "      <td>0.000000<\/td>\n",
       "    <\/tr>\n",
       "    <tr>\n",
       "      <th>...<\/th>\n",
       "      <td>...<\/td>\n",
       "      <td>...<\/td>\n",
       "      <td>...<\/td>\n",
       "      <td>...<\/td>\n",
       "      <td>...<\/td>\n",
       "      <td>...<\/td>\n",
       "      <td>...<\/td>\n",
       "      <td>...<\/td>\n",
       "    <\/tr>\n",
       "    <tr>\n",
       "      <th>1368<\/th>\n",
       "      <td>205.475090<\/td>\n",
       "      <td>188.044570<\/td>\n",
       "      <td>0.230031<\/td>\n",
       "      <td>12.172525<\/td>\n",
       "      <td>2023-02-01<\/td>\n",
       "      <td>0.915170<\/td>\n",
       "      <td>0.001120<\/td>\n",
       "      <td>0.059241<\/td>\n",
       "    <\/tr>\n",
       "    <tr>\n",
       "      <th>1369<\/th>\n",
       "      <td>214.946622<\/td>\n",
       "      <td>205.676640<\/td>\n",
       "      <td>0.769890<\/td>\n",
       "      <td>9.597150<\/td>\n",
       "      <td>2023-02-01<\/td>\n",
       "      <td>0.956873<\/td>\n",
       "      <td>0.003582<\/td>\n",
       "      <td>0.044649<\/td>\n",
       "    <\/tr>\n",
       "    <tr>\n",
       "      <th>1370<\/th>\n",
       "      <td>204.225625<\/td>\n",
       "      <td>202.178280<\/td>\n",
       "      <td>1.617409<\/td>\n",
       "      <td>13.147064<\/td>\n",
       "      <td>2023-02-01<\/td>\n",
       "      <td>0.989975<\/td>\n",
       "      <td>0.007920<\/td>\n",
       "      <td>0.064375<\/td>\n",
       "    <\/tr>\n",
       "    <tr>\n",
       "      <th>1371<\/th>\n",
       "      <td>200.629410<\/td>\n",
       "      <td>188.644891<\/td>\n",
       "      <td>0.653781<\/td>\n",
       "      <td>59.267639<\/td>\n",
       "      <td>2023-02-01<\/td>\n",
       "      <td>0.940265<\/td>\n",
       "      <td>0.003259<\/td>\n",
       "      <td>0.295409<\/td>\n",
       "    <\/tr>\n",
       "    <tr>\n",
       "      <th>1372<\/th>\n",
       "      <td>200.330083<\/td>\n",
       "      <td>181.624280<\/td>\n",
       "      <td>0.070274<\/td>\n",
       "      <td>15.932650<\/td>\n",
       "      <td>2023-02-01<\/td>\n",
       "      <td>0.906625<\/td>\n",
       "      <td>0.000351<\/td>\n",
       "      <td>0.079532<\/td>\n",
       "    <\/tr>\n",
       "  <\/tbody>\n",
       "<\/table>\n",
       "<p>1373 rows × 8 columns<\/p>\n",
       "<\/div>"
      ]
     },
     "metadata":{
      
     },
     "output_type":"display_data"
    }
   ],
   "metadata":{
    "datalore":{
     "node_id":"OiU8RlDKFAPxPgRTJs2wxN",
     "type":"CODE",
     "hide_input_from_viewers":true,
     "hide_output_from_viewers":true
    }
   }
  },
  {
   "cell_type":"code",
   "source":[
    "iopo_samples_df[['PO\/face_value', 'IO\/face_value', 'residual\/face_value', 'bucket']].groupby(['bucket']).mean().plot()\n",
    "plt.xlabel('time')\n",
    "plt.ylabel('values of tranches per $1 face value')\n",
    "plt.title(\"IO-PO structure's values of tranches per $1 face value over time\")\n",
    "plt.savefig(\"IO-PO structure's values of tranches per $1 face value over time.png\")"
   ],
   "execution_count":33,
   "outputs":[
    {
     "data":{
      "image\/png":"[encoded data removed]"
     },
     "metadata":{
      "image\/png":{
       
      }
     },
     "output_type":"display_data"
    }
   ],
   "metadata":{
    "datalore":{
     "node_id":"vVxHbV4z1Srv4ZgsGceHuf",
     "type":"CODE",
     "hide_input_from_viewers":true,
     "hide_output_from_viewers":true
    }
   }
  },
  {
   "cell_type":"code",
   "source":[
    "data = iopo_samples_df[['PO\/face_value', 'IO\/face_value', 'residual\/face_value', 'bucket']]\n",
    "print(data['bucket'])\n",
    "sns.lineplot(data = data, x=\"bucket\", y=\"PO\/face_value\").set(title='PO\/face_value over time', xlabel=\"time\", ylabel='values of tranches per $1 face value')\n",
    "plt.axhline(y=1, color='r', linestyle = 'dashed')\n",
    "plt.savefig(\"PO divide face value over time.png\")\n",
    "plt.show()\n",
    "\n",
    "sns.lineplot(data = data, x=\"bucket\", y=\"IO\/face_value\").set(title='IO\/face_value over time', xlabel=\"time\", ylabel='values of tranches per $1 face value')\n",
    "plt.axhline(y=0, color='r', linestyle = 'dashed')\n",
    "plt.savefig(\"IO divide face value over time.png\")\n",
    "plt.show()\n",
    "\n",
    "sns.lineplot(data = data, x=\"bucket\", y=\"residual\/face_value\").set(title='residual\/face_value over time', xlabel=\"time\", ylabel='values of tranches per $1 face value')\n",
    "plt.axhline(y=0, color='r', linestyle = 'dashed')\n",
    "plt.savefig(\"residual divide face value over time.png\")\n",
    "plt.show()"
   ],
   "execution_count":34,
   "outputs":[
    {
     "name":"stdout",
     "text":[
      "0      2022-01-01\n",
      "1      2022-01-01\n",
      "2      2022-01-01\n",
      "3      2022-01-01\n",
      "4      2022-01-01\n",
      "          ...    \n",
      "1368   2023-02-01\n",
      "1369   2023-02-01\n",
      "1370   2023-02-01\n",
      "1371   2023-02-01\n",
      "1372   2023-02-01\n",
      "Name: bucket, Length: 1373, dtype: datetime64[ns]\n"
     ],
     "output_type":"stream"
    },
    {
     "data":{
      "image\/png":"[encoded data removed]"
     },
     "metadata":{
      "image\/png":{
       
      }
     },
     "output_type":"display_data"
    },
    {
     "data":{
      "image\/png":"[encoded data removed]"
     },
     "metadata":{
      "image\/png":{
       
      }
     },
     "output_type":"display_data"
    },
    {
     "data":{
      "image\/png":"[encoded data removed]"
     },
     "metadata":{
      "image\/png":{
       
      }
     },
     "output_type":"display_data"
    }
   ],
   "metadata":{
    "datalore":{
     "node_id":"6rl5dzAJmngPM5KQ1e589j",
     "type":"CODE",
     "hide_input_from_viewers":true,
     "hide_output_from_viewers":true
    }
   }
  },
  {
   "cell_type":"code",
   "source":[
    "# calc_tranches_by_principal(sample_pool[71], tranche_principals=None, tranche_aprs=[7, 9])"
   ],
   "execution_count":35,
   "outputs":[
    
   ],
   "metadata":{
    "datalore":{
     "node_id":"4H2uo50jOBNXpL53bQ920c",
     "type":"CODE",
     "hide_input_from_viewers":true,
     "hide_output_from_viewers":true
    }
   }
  },
  {
   "cell_type":"code",
   "source":[
    "tranches_sample = [calc_tranches_by_principal(sample_pool[i], tranche_principals=None, tranche_aprs=[5, 7, 9]) for i in range(len(sample_pool))]\n",
    "tranches_sample_df = pd.DataFrame(tranches_sample)\n",
    "print(tranches_sample_df)"
   ],
   "execution_count":43,
   "outputs":[
    {
     "name":"stdout",
     "text":[
      "      principal_1  apr_1  valuation_1  no_default_val_1  principal_2  apr_2  \\\n",
      "0       67.380932      5    67.699120         67.699120    67.380932      7   \n",
      "1       66.682712      5    66.997603         66.997603    66.682712      7   \n",
      "2       66.878635      5    67.194451         67.194451    66.878635      7   \n",
      "3       68.574105      5    68.897927         68.897927    68.574105      7   \n",
      "4       67.596669      5    67.915875         67.915875    67.596669      7   \n",
      "...           ...    ...          ...               ...          ...    ...   \n",
      "1368    68.491697      5    68.815130         68.815130    68.491697      7   \n",
      "1369    71.648874      5    71.987216         71.987216    71.648874      7   \n",
      "1370    68.075208      5    68.396675         68.396675    68.075208      7   \n",
      "1371    66.876470      5    67.192276         67.192276    66.876470      7   \n",
      "1372    66.776694      5    67.092029         67.092029    66.776694      7   \n",
      "\n",
      "      valuation_2  no_default_val_2  principal_3  apr_3  valuation_3  \\\n",
      "0       67.826395         67.826395    67.380932      9    67.953670   \n",
      "1       67.123559         67.123559    66.682712      9    67.249515   \n",
      "2       67.320777         67.320777    66.878635      9    67.447104   \n",
      "3       69.027456         69.027456    68.574105      9    69.156985   \n",
      "4       68.043558         68.043558    67.596669      9    68.171240   \n",
      "...           ...               ...          ...    ...          ...   \n",
      "1368    68.944503         68.944503    68.491697      9    62.687493   \n",
      "1369    72.122553         72.122553    71.648874      9    71.933912   \n",
      "1370    68.525261         68.525261    68.075208      9    68.653848   \n",
      "1371    67.318598         67.318598    66.876470      9    67.444920   \n",
      "1372    67.218162         67.218162    66.776694      9    63.317013   \n",
      "\n",
      "      no_default_val_3  valuation_residual  no_default_valuation_residual  \\\n",
      "0            67.953670            8.870480                              0   \n",
      "1            67.249515            6.173344                              0   \n",
      "2            67.447104            7.828683                              0   \n",
      "3            69.156985            8.371535                              0   \n",
      "4            68.171240            7.079200                              0   \n",
      "...                ...                 ...                            ...   \n",
      "1368         69.073876            0.000000                              0   \n",
      "1369         72.257889            0.000000                              0   \n",
      "1370         68.653848           11.366970                              0   \n",
      "1371         67.444920           46.610518                              0   \n",
      "1372         67.344296            0.000000                              0   \n",
      "\n",
      "      valuation_1\/face_value  valuation_2\/face_value  valuation_3\/face_value  \\\n",
      "0                   1.004722                1.006611                1.008500   \n",
      "1                   1.004722                1.006611                1.008500   \n",
      "2                   1.004722                1.006611                1.008500   \n",
      "3                   1.004722                1.006611                1.008500   \n",
      "4                   1.004722                1.006611                1.008500   \n",
      "...                      ...                     ...                     ...   \n",
      "1368                1.004722                1.006611                0.915257   \n",
      "1369                1.004722                1.006611                1.003978   \n",
      "1370                1.004722                1.006611                1.008500   \n",
      "1371                1.004722                1.006611                1.008500   \n",
      "1372                1.004722                1.006611                0.948190   \n",
      "\n",
      "      valuation_residual\/face_value     bucket  \n",
      "0                          0.043882 2022-01-01  \n",
      "1                          0.030859 2022-01-01  \n",
      "2                          0.039019 2022-01-01  \n",
      "3                          0.040693 2022-01-01  \n",
      "4                          0.034909 2022-01-01  \n",
      "...                             ...        ...  \n",
      "1368                       0.000000 2023-02-01  \n",
      "1369                       0.000000 2023-02-01  \n",
      "1370                       0.055659 2023-02-01  \n",
      "1371                       0.232321 2023-02-01  \n",
      "1372                       0.000000 2023-02-01  \n",
      "\n",
      "[1373 rows x 19 columns]\n"
     ],
     "output_type":"stream"
    }
   ],
   "metadata":{
    "datalore":{
     "node_id":"igCEZOnqSJfuKmnBLwy9h1",
     "type":"CODE",
     "hide_input_from_viewers":true,
     "hide_output_from_viewers":true
    }
   }
  },
  {
   "cell_type":"code",
   "source":[
    "tranches_sample_df[['valuation_1\/face_value', 'valuation_2\/face_value', 'valuation_3\/face_value', 'valuation_residual\/face_value', 'bucket']].groupby(['bucket']).mean().plot()\n",
    "# tranches_sample_df[['valuation_1\/face_value', 'valuation_2\/face_value', 'valuation_residual\/face_value', 'bucket']].groupby(['bucket']).mean().plot()\n",
    "plt.xlabel('time')\n",
    "plt.ylabel('values of tranches per $1 face value')\n",
    "plt.title(\"waterfall structure's values of tranches per $1 face value over time\")\n",
    "plt.savefig(\"waterfall structure's values of tranches per $1 face value over time.png\")"
   ],
   "execution_count":44,
   "outputs":[
    {
     "data":{
      "image\/png":"[encoded data removed]"
     },
     "metadata":{
      "image\/png":{
       
      }
     },
     "output_type":"display_data"
    }
   ],
   "metadata":{
    "datalore":{
     "node_id":"4W0OLkAIXQ6qhkoiYWCB5b",
     "type":"CODE",
     "hide_input_from_viewers":true,
     "hide_output_from_viewers":true
    }
   }
  },
  {
   "cell_type":"code",
   "source":[
    "tranches_sample_df[tranches_sample_df['no_default_val_2']> tranches_sample_df['valuation_2']].describe()\n",
    "# confirmed residual gets nothing is there is any compromise"
   ],
   "execution_count":45,
   "outputs":[
    {
     "data":{
      "text\/html":[
       "<div>\n",
       "<style scoped>\n",
       "    .dataframe tbody tr th:only-of-type {\n",
       "        vertical-align: middle;\n",
       "    }\n",
       "\n",
       "    .dataframe tbody tr th {\n",
       "        vertical-align: top;\n",
       "    }\n",
       "\n",
       "    .dataframe thead th {\n",
       "        text-align: right;\n",
       "    }\n",
       "<\/style>\n",
       "<table border=\"1\" class=\"dataframe\">\n",
       "  <thead>\n",
       "    <tr style=\"text-align: right;\">\n",
       "      <th><\/th>\n",
       "      <th>principal_1<\/th>\n",
       "      <th>apr_1<\/th>\n",
       "      <th>valuation_1<\/th>\n",
       "      <th>no_default_val_1<\/th>\n",
       "      <th>principal_2<\/th>\n",
       "      <th>apr_2<\/th>\n",
       "      <th>valuation_2<\/th>\n",
       "      <th>no_default_val_2<\/th>\n",
       "      <th>principal_3<\/th>\n",
       "      <th>apr_3<\/th>\n",
       "      <th>valuation_3<\/th>\n",
       "      <th>no_default_val_3<\/th>\n",
       "      <th>valuation_residual<\/th>\n",
       "      <th>no_default_valuation_residual<\/th>\n",
       "      <th>valuation_1\/face_value<\/th>\n",
       "      <th>valuation_2\/face_value<\/th>\n",
       "      <th>valuation_3\/face_value<\/th>\n",
       "      <th>valuation_residual\/face_value<\/th>\n",
       "    <\/tr>\n",
       "  <\/thead>\n",
       "  <tbody>\n",
       "    <tr>\n",
       "      <th>count<\/th>\n",
       "      <td>0.0<\/td>\n",
       "      <td>0.0<\/td>\n",
       "      <td>0.0<\/td>\n",
       "      <td>0.0<\/td>\n",
       "      <td>0.0<\/td>\n",
       "      <td>0.0<\/td>\n",
       "      <td>0.0<\/td>\n",
       "      <td>0.0<\/td>\n",
       "      <td>0.0<\/td>\n",
       "      <td>0.0<\/td>\n",
       "      <td>0.0<\/td>\n",
       "      <td>0.0<\/td>\n",
       "      <td>0.0<\/td>\n",
       "      <td>0.0<\/td>\n",
       "      <td>0.0<\/td>\n",
       "      <td>0.0<\/td>\n",
       "      <td>0.0<\/td>\n",
       "      <td>0.0<\/td>\n",
       "    <\/tr>\n",
       "    <tr>\n",
       "      <th>mean<\/th>\n",
       "      <td>NaN<\/td>\n",
       "      <td>NaN<\/td>\n",
       "      <td>NaN<\/td>\n",
       "      <td>NaN<\/td>\n",
       "      <td>NaN<\/td>\n",
       "      <td>NaN<\/td>\n",
       "      <td>NaN<\/td>\n",
       "      <td>NaN<\/td>\n",
       "      <td>NaN<\/td>\n",
       "      <td>NaN<\/td>\n",
       "      <td>NaN<\/td>\n",
       "      <td>NaN<\/td>\n",
       "      <td>NaN<\/td>\n",
       "      <td>NaN<\/td>\n",
       "      <td>NaN<\/td>\n",
       "      <td>NaN<\/td>\n",
       "      <td>NaN<\/td>\n",
       "      <td>NaN<\/td>\n",
       "    <\/tr>\n",
       "    <tr>\n",
       "      <th>std<\/th>\n",
       "      <td>NaN<\/td>\n",
       "      <td>NaN<\/td>\n",
       "      <td>NaN<\/td>\n",
       "      <td>NaN<\/td>\n",
       "      <td>NaN<\/td>\n",
       "      <td>NaN<\/td>\n",
       "      <td>NaN<\/td>\n",
       "      <td>NaN<\/td>\n",
       "      <td>NaN<\/td>\n",
       "      <td>NaN<\/td>\n",
       "      <td>NaN<\/td>\n",
       "      <td>NaN<\/td>\n",
       "      <td>NaN<\/td>\n",
       "      <td>NaN<\/td>\n",
       "      <td>NaN<\/td>\n",
       "      <td>NaN<\/td>\n",
       "      <td>NaN<\/td>\n",
       "      <td>NaN<\/td>\n",
       "    <\/tr>\n",
       "    <tr>\n",
       "      <th>min<\/th>\n",
       "      <td>NaN<\/td>\n",
       "      <td>NaN<\/td>\n",
       "      <td>NaN<\/td>\n",
       "      <td>NaN<\/td>\n",
       "      <td>NaN<\/td>\n",
       "      <td>NaN<\/td>\n",
       "      <td>NaN<\/td>\n",
       "      <td>NaN<\/td>\n",
       "      <td>NaN<\/td>\n",
       "      <td>NaN<\/td>\n",
       "      <td>NaN<\/td>\n",
       "      <td>NaN<\/td>\n",
       "      <td>NaN<\/td>\n",
       "      <td>NaN<\/td>\n",
       "      <td>NaN<\/td>\n",
       "      <td>NaN<\/td>\n",
       "      <td>NaN<\/td>\n",
       "      <td>NaN<\/td>\n",
       "    <\/tr>\n",
       "    <tr>\n",
       "      <th>25%<\/th>\n",
       "      <td>NaN<\/td>\n",
       "      <td>NaN<\/td>\n",
       "      <td>NaN<\/td>\n",
       "      <td>NaN<\/td>\n",
       "      <td>NaN<\/td>\n",
       "      <td>NaN<\/td>\n",
       "      <td>NaN<\/td>\n",
       "      <td>NaN<\/td>\n",
       "      <td>NaN<\/td>\n",
       "      <td>NaN<\/td>\n",
       "      <td>NaN<\/td>\n",
       "      <td>NaN<\/td>\n",
       "      <td>NaN<\/td>\n",
       "      <td>NaN<\/td>\n",
       "      <td>NaN<\/td>\n",
       "      <td>NaN<\/td>\n",
       "      <td>NaN<\/td>\n",
       "      <td>NaN<\/td>\n",
       "    <\/tr>\n",
       "    <tr>\n",
       "      <th>50%<\/th>\n",
       "      <td>NaN<\/td>\n",
       "      <td>NaN<\/td>\n",
       "      <td>NaN<\/td>\n",
       "      <td>NaN<\/td>\n",
       "      <td>NaN<\/td>\n",
       "      <td>NaN<\/td>\n",
       "      <td>NaN<\/td>\n",
       "      <td>NaN<\/td>\n",
       "      <td>NaN<\/td>\n",
       "      <td>NaN<\/td>\n",
       "      <td>NaN<\/td>\n",
       "      <td>NaN<\/td>\n",
       "      <td>NaN<\/td>\n",
       "      <td>NaN<\/td>\n",
       "      <td>NaN<\/td>\n",
       "      <td>NaN<\/td>\n",
       "      <td>NaN<\/td>\n",
       "      <td>NaN<\/td>\n",
       "    <\/tr>\n",
       "    <tr>\n",
       "      <th>75%<\/th>\n",
       "      <td>NaN<\/td>\n",
       "      <td>NaN<\/td>\n",
       "      <td>NaN<\/td>\n",
       "      <td>NaN<\/td>\n",
       "      <td>NaN<\/td>\n",
       "      <td>NaN<\/td>\n",
       "      <td>NaN<\/td>\n",
       "      <td>NaN<\/td>\n",
       "      <td>NaN<\/td>\n",
       "      <td>NaN<\/td>\n",
       "      <td>NaN<\/td>\n",
       "      <td>NaN<\/td>\n",
       "      <td>NaN<\/td>\n",
       "      <td>NaN<\/td>\n",
       "      <td>NaN<\/td>\n",
       "      <td>NaN<\/td>\n",
       "      <td>NaN<\/td>\n",
       "      <td>NaN<\/td>\n",
       "    <\/tr>\n",
       "    <tr>\n",
       "      <th>max<\/th>\n",
       "      <td>NaN<\/td>\n",
       "      <td>NaN<\/td>\n",
       "      <td>NaN<\/td>\n",
       "      <td>NaN<\/td>\n",
       "      <td>NaN<\/td>\n",
       "      <td>NaN<\/td>\n",
       "      <td>NaN<\/td>\n",
       "      <td>NaN<\/td>\n",
       "      <td>NaN<\/td>\n",
       "      <td>NaN<\/td>\n",
       "      <td>NaN<\/td>\n",
       "      <td>NaN<\/td>\n",
       "      <td>NaN<\/td>\n",
       "      <td>NaN<\/td>\n",
       "      <td>NaN<\/td>\n",
       "      <td>NaN<\/td>\n",
       "      <td>NaN<\/td>\n",
       "      <td>NaN<\/td>\n",
       "    <\/tr>\n",
       "  <\/tbody>\n",
       "<\/table>\n",
       "<\/div>"
      ]
     },
     "metadata":{
      
     },
     "output_type":"display_data"
    }
   ],
   "metadata":{
    "datalore":{
     "node_id":"t28nmZIi0vEImctVjWpuEV",
     "type":"CODE",
     "hide_input_from_viewers":true,
     "hide_output_from_viewers":true
    }
   }
  },
  {
   "cell_type":"code",
   "source":[
    "tranches_sample_df[tranches_sample_df['no_default_val_2'] <= tranches_sample_df['valuation_2']].describe()"
   ],
   "execution_count":46,
   "outputs":[
    {
     "data":{
      "text\/html":[
       "<div>\n",
       "<style scoped>\n",
       "    .dataframe tbody tr th:only-of-type {\n",
       "        vertical-align: middle;\n",
       "    }\n",
       "\n",
       "    .dataframe tbody tr th {\n",
       "        vertical-align: top;\n",
       "    }\n",
       "\n",
       "    .dataframe thead th {\n",
       "        text-align: right;\n",
       "    }\n",
       "<\/style>\n",
       "<table border=\"1\" class=\"dataframe\">\n",
       "  <thead>\n",
       "    <tr style=\"text-align: right;\">\n",
       "      <th><\/th>\n",
       "      <th>principal_1<\/th>\n",
       "      <th>apr_1<\/th>\n",
       "      <th>valuation_1<\/th>\n",
       "      <th>no_default_val_1<\/th>\n",
       "      <th>principal_2<\/th>\n",
       "      <th>apr_2<\/th>\n",
       "      <th>valuation_2<\/th>\n",
       "      <th>no_default_val_2<\/th>\n",
       "      <th>principal_3<\/th>\n",
       "      <th>apr_3<\/th>\n",
       "      <th>valuation_3<\/th>\n",
       "      <th>no_default_val_3<\/th>\n",
       "      <th>valuation_residual<\/th>\n",
       "      <th>no_default_valuation_residual<\/th>\n",
       "      <th>valuation_1\/face_value<\/th>\n",
       "      <th>valuation_2\/face_value<\/th>\n",
       "      <th>valuation_3\/face_value<\/th>\n",
       "      <th>valuation_residual\/face_value<\/th>\n",
       "    <\/tr>\n",
       "  <\/thead>\n",
       "  <tbody>\n",
       "    <tr>\n",
       "      <th>count<\/th>\n",
       "      <td>1373.000000<\/td>\n",
       "      <td>1373.0<\/td>\n",
       "      <td>1373.000000<\/td>\n",
       "      <td>1373.000000<\/td>\n",
       "      <td>1373.000000<\/td>\n",
       "      <td>1373.0<\/td>\n",
       "      <td>1373.000000<\/td>\n",
       "      <td>1373.000000<\/td>\n",
       "      <td>1373.000000<\/td>\n",
       "      <td>1373.0<\/td>\n",
       "      <td>1373.000000<\/td>\n",
       "      <td>1373.000000<\/td>\n",
       "      <td>1373.000000<\/td>\n",
       "      <td>1373.0<\/td>\n",
       "      <td>1373.000000<\/td>\n",
       "      <td>1373.000000<\/td>\n",
       "      <td>1373.000000<\/td>\n",
       "      <td>1373.000000<\/td>\n",
       "    <\/tr>\n",
       "    <tr>\n",
       "      <th>mean<\/th>\n",
       "      <td>72.057974<\/td>\n",
       "      <td>5.0<\/td>\n",
       "      <td>72.398248<\/td>\n",
       "      <td>72.398248<\/td>\n",
       "      <td>72.057974<\/td>\n",
       "      <td>7.0<\/td>\n",
       "      <td>72.534357<\/td>\n",
       "      <td>72.534357<\/td>\n",
       "      <td>72.057974<\/td>\n",
       "      <td>9.0<\/td>\n",
       "      <td>71.301833<\/td>\n",
       "      <td>72.670467<\/td>\n",
       "      <td>4.779241<\/td>\n",
       "      <td>0.0<\/td>\n",
       "      <td>1.004722<\/td>\n",
       "      <td>1.006611<\/td>\n",
       "      <td>0.989268<\/td>\n",
       "      <td>0.021800<\/td>\n",
       "    <\/tr>\n",
       "    <tr>\n",
       "      <th>std<\/th>\n",
       "      <td>7.174545<\/td>\n",
       "      <td>0.0<\/td>\n",
       "      <td>7.208425<\/td>\n",
       "      <td>7.208425<\/td>\n",
       "      <td>7.174545<\/td>\n",
       "      <td>0.0<\/td>\n",
       "      <td>7.221977<\/td>\n",
       "      <td>7.221977<\/td>\n",
       "      <td>7.174545<\/td>\n",
       "      <td>0.0<\/td>\n",
       "      <td>8.199495<\/td>\n",
       "      <td>7.235529<\/td>\n",
       "      <td>10.549333<\/td>\n",
       "      <td>0.0<\/td>\n",
       "      <td>0.000000<\/td>\n",
       "      <td>0.000000<\/td>\n",
       "      <td>0.052425<\/td>\n",
       "      <td>0.041604<\/td>\n",
       "    <\/tr>\n",
       "    <tr>\n",
       "      <th>min<\/th>\n",
       "      <td>66.666862<\/td>\n",
       "      <td>5.0<\/td>\n",
       "      <td>66.981678<\/td>\n",
       "      <td>66.981678<\/td>\n",
       "      <td>66.666862<\/td>\n",
       "      <td>7.0<\/td>\n",
       "      <td>67.107604<\/td>\n",
       "      <td>67.107604<\/td>\n",
       "      <td>66.666862<\/td>\n",
       "      <td>9.0<\/td>\n",
       "      <td>19.767164<\/td>\n",
       "      <td>67.233530<\/td>\n",
       "      <td>0.000000<\/td>\n",
       "      <td>0.0<\/td>\n",
       "      <td>1.004722<\/td>\n",
       "      <td>1.006611<\/td>\n",
       "      <td>0.295864<\/td>\n",
       "      <td>0.000000<\/td>\n",
       "    <\/tr>\n",
       "    <tr>\n",
       "      <th>25%<\/th>\n",
       "      <td>67.345200<\/td>\n",
       "      <td>5.0<\/td>\n",
       "      <td>67.663219<\/td>\n",
       "      <td>67.663219<\/td>\n",
       "      <td>67.345200<\/td>\n",
       "      <td>7.0<\/td>\n",
       "      <td>67.790427<\/td>\n",
       "      <td>67.790427<\/td>\n",
       "      <td>67.345200<\/td>\n",
       "      <td>9.0<\/td>\n",
       "      <td>67.513973<\/td>\n",
       "      <td>67.917634<\/td>\n",
       "      <td>0.000000<\/td>\n",
       "      <td>0.0<\/td>\n",
       "      <td>1.004722<\/td>\n",
       "      <td>1.006611<\/td>\n",
       "      <td>1.007693<\/td>\n",
       "      <td>0.000000<\/td>\n",
       "    <\/tr>\n",
       "    <tr>\n",
       "      <th>50%<\/th>\n",
       "      <td>68.956556<\/td>\n",
       "      <td>5.0<\/td>\n",
       "      <td>69.282184<\/td>\n",
       "      <td>69.282184<\/td>\n",
       "      <td>68.956556<\/td>\n",
       "      <td>7.0<\/td>\n",
       "      <td>69.412435<\/td>\n",
       "      <td>69.412435<\/td>\n",
       "      <td>68.956556<\/td>\n",
       "      <td>9.0<\/td>\n",
       "      <td>68.862061<\/td>\n",
       "      <td>69.542686<\/td>\n",
       "      <td>3.263955<\/td>\n",
       "      <td>0.0<\/td>\n",
       "      <td>1.004722<\/td>\n",
       "      <td>1.006611<\/td>\n",
       "      <td>1.008500<\/td>\n",
       "      <td>0.014969<\/td>\n",
       "    <\/tr>\n",
       "    <tr>\n",
       "      <th>75%<\/th>\n",
       "      <td>74.625643<\/td>\n",
       "      <td>5.0<\/td>\n",
       "      <td>74.978042<\/td>\n",
       "      <td>74.978042<\/td>\n",
       "      <td>74.625643<\/td>\n",
       "      <td>7.0<\/td>\n",
       "      <td>75.119001<\/td>\n",
       "      <td>75.119001<\/td>\n",
       "      <td>74.625643<\/td>\n",
       "      <td>9.0<\/td>\n",
       "      <td>74.297204<\/td>\n",
       "      <td>75.259961<\/td>\n",
       "      <td>5.944663<\/td>\n",
       "      <td>0.0<\/td>\n",
       "      <td>1.004722<\/td>\n",
       "      <td>1.006611<\/td>\n",
       "      <td>1.008500<\/td>\n",
       "      <td>0.027910<\/td>\n",
       "    <\/tr>\n",
       "    <tr>\n",
       "      <th>max<\/th>\n",
       "      <td>124.813312<\/td>\n",
       "      <td>5.0<\/td>\n",
       "      <td>125.402708<\/td>\n",
       "      <td>125.402708<\/td>\n",
       "      <td>124.813312<\/td>\n",
       "      <td>7.0<\/td>\n",
       "      <td>125.638467<\/td>\n",
       "      <td>125.638467<\/td>\n",
       "      <td>124.813312<\/td>\n",
       "      <td>9.0<\/td>\n",
       "      <td>125.874225<\/td>\n",
       "      <td>125.874225<\/td>\n",
       "      <td>200.654435<\/td>\n",
       "      <td>0.0<\/td>\n",
       "      <td>1.004722<\/td>\n",
       "      <td>1.006611<\/td>\n",
       "      <td>1.008500<\/td>\n",
       "      <td>0.701843<\/td>\n",
       "    <\/tr>\n",
       "  <\/tbody>\n",
       "<\/table>\n",
       "<\/div>"
      ]
     },
     "metadata":{
      
     },
     "output_type":"display_data"
    }
   ],
   "metadata":{
    "datalore":{
     "node_id":"b9QiE4MQuCLKeiIJifV6qF",
     "type":"CODE",
     "hide_input_from_viewers":true,
     "hide_output_from_viewers":true
    }
   }
  },
  {
   "cell_type":"code",
   "source":[
    "data = tranches_sample_df[['valuation_1\/face_value', 'valuation_2\/face_value', 'valuation_3\/face_value', 'valuation_residual\/face_value', 'valuation_residual', 'bucket']]\n",
    "# data = tranches_sample_df[['valuation_1\/face_value', 'valuation_2\/face_value', 'valuation_residual\/face_value', 'valuation_residual', 'bucket']]\n",
    "\n",
    "sns.lineplot(data = data, x=\"bucket\", y=\"valuation_1\/face_value\").set(title='valuation_1\/face_value over time', xlabel=\"time\", ylabel='values of tranches per $1 face value')\n",
    "plt.axhline(y=1+0.05* 34\/360, color='r', linestyle = 'dashed')\n",
    "plt.savefig(\"valuation 1 divide face value over time.png\")\n",
    "plt.show()\n",
    "\n",
    "sns.lineplot(data = data, x=\"bucket\", y=\"valuation_2\/face_value\").set(title='valuation_2\/face_value over time', xlabel=\"time\", ylabel='values of tranches per $1 face value')\n",
    "plt.axhline(y=1+0.07* 34\/360, color='r', linestyle = 'dashed')\n",
    "plt.savefig(\"valuation 2 divide face value over time.png\")\n",
    "plt.show()\n",
    "\n",
    "sns.lineplot(data = data, x=\"bucket\", y=\"valuation_3\/face_value\").set(title='valuation_3\/face_value over time', xlabel=\"time\", ylabel='values of tranches per $1 face value')\n",
    "plt.axhline(y=1+0.09* 34\/360, color='r', linestyle = 'dashed')\n",
    "plt.savefig(\"valuation 3 divide face value over time.png\")\n",
    "plt.show()\n",
    "# sns.lineplot(data = data, x=\"bucket\", y=\"valuation_3\/face_value\").set(title='valuation_3\/face_value over time')\n",
    "# plt.show()\n",
    "\n",
    "sns.lineplot(data = data, x=\"bucket\", y=\"valuation_residual\/face_value\").set(title='valuation_residual\/face_value over time', xlabel=\"time\", ylabel='values of tranches per $1 face value')\n",
    "plt.axhline(y=0, color='r', linestyle = 'dashed')\n",
    "plt.savefig(\"valuation residual divide face value over time.png\")\n",
    "plt.show()\n",
    "\n",
    "# sns.lineplot(data = data, x=\"bucket\", y=\"valuation_residual\").set(title='valuation_residual over time', xlabel=\"time\", ylabel='values of tranches per $1 face value')\n",
    "# plt.axhline(y=0, color='r', linestyle = 'dashed')\n",
    "# plt.savefig(\"valuation residual over time.png\")\n",
    "# plt.show()"
   ],
   "execution_count":49,
   "outputs":[
    {
     "data":{
      "image\/png":"[encoded data removed]"
     },
     "metadata":{
      "image\/png":{
       
      }
     },
     "output_type":"display_data"
    },
    {
     "data":{
      "image\/png":"[encoded data removed]"
     },
     "metadata":{
      "image\/png":{
       
      }
     },
     "output_type":"display_data"
    },
    {
     "data":{
      "image\/png":"[encoded data removed]"
     },
     "metadata":{
      "image\/png":{
       
      }
     },
     "output_type":"display_data"
    },
    {
     "data":{
      "image\/png":"[encoded data removed]"
     },
     "metadata":{
      "image\/png":{
       
      }
     },
     "output_type":"display_data"
    },
    {
     "data":{
      "image\/png":"[encoded data removed]"
     },
     "metadata":{
      "image\/png":{
       
      }
     },
     "output_type":"display_data"
    }
   ],
   "metadata":{
    "datalore":{
     "node_id":"4gQB3cN9jafd3LKQScdW0b",
     "type":"CODE",
     "hide_input_from_viewers":true,
     "hide_output_from_viewers":true
    }
   }
  },
  {
   "cell_type":"code",
   "source":[
    
   ],
   "execution_count":null,
   "outputs":[
    
   ],
   "metadata":{
    "datalore":{
     "node_id":"9mIVDDMnEQPjGiFb7GXHHE",
     "type":"CODE",
     "hide_input_from_viewers":true,
     "hide_output_from_viewers":true
    }
   }
  },
  {
   "cell_type":"markdown",
   "source":[
    "## MC"
   ],
   "attachments":{
    
   },
   "metadata":{
    "datalore":{
     "node_id":"zNjfgSgmRLWeIHfvL46Knw",
     "type":"MD",
     "hide_input_from_viewers":false,
     "hide_output_from_viewers":false,
     "report_properties":{
      
     }
    }
   }
  },
  {
   "cell_type":"code",
   "source":[
    "# generate loans stats\n"
   ],
   "execution_count":41,
   "outputs":[
    
   ],
   "metadata":{
    "datalore":{
     "node_id":"8JGPto4NxeOav0aJRgFPiv",
     "type":"CODE",
     "hide_input_from_viewers":true,
     "hide_output_from_viewers":true
    }
   }
  },
  {
   "cell_type":"code",
   "source":[
    
   ],
   "execution_count":null,
   "outputs":[
    
   ],
   "metadata":{
    "datalore":{
     "node_id":"aWOkEKH0pxXPouQq5ARVmM",
     "type":"CODE",
     "hide_input_from_viewers":true,
     "hide_output_from_viewers":true
    }
   }
  },
  {
   "cell_type":"code",
   "source":[
    
   ],
   "execution_count":null,
   "outputs":[
    
   ],
   "metadata":{
    "datalore":{
     "node_id":"qFdB46DwXvebUgvvlOFqD5",
     "type":"CODE",
     "hide_input_from_viewers":true,
     "hide_output_from_viewers":true
    }
   }
  },
  {
   "cell_type":"code",
   "source":[
    
   ],
   "execution_count":null,
   "outputs":[
    
   ],
   "metadata":{
    "datalore":{
     "node_id":"FPGWivkgq7nvzVVBMLWIFv",
     "type":"CODE",
     "hide_input_from_viewers":true,
     "hide_output_from_viewers":true
    }
   }
  },
  {
   "cell_type":"code",
   "source":[
    
   ],
   "execution_count":null,
   "outputs":[
    
   ],
   "metadata":{
    "datalore":{
     "node_id":"i9Fz9rryzL5gLTe0G9jT5C",
     "type":"CODE",
     "hide_input_from_viewers":true,
     "hide_output_from_viewers":true
    }
   }
  },
  {
   "cell_type":"code",
   "source":[
    "# def mc_prices(short_rate_paths, rate_paths, log_log_params):\n",
    "#     \"\"\"calculate the average price of a bond based on simulated rate paths\n",
    "\n",
    "#     Paramenters\n",
    "#     -----------\n",
    "#     short_rate_paths -- the short rate paths simulated, its shape is (10000, 2, 241)\n",
    "#     rate_paths -- the ten-year-rate paths simulated, its shape is (10000, 2, 241)\n",
    "\n",
    "#     Output\n",
    "#     -------\n",
    "#     mc_estimates -- Monte Carlo price estimates\n",
    "#     mc_std_errs  -- Monte Carlo standard errors of price estimates\n",
    "#     \"\"\" \n",
    "\n",
    "#     bond_prices = price_cfs(tranche_cfs_from_pools(rate_paths, log_log_params), short_rate_paths)\n",
    "    \n",
    "#     mc_estimates = dict()\n",
    "#     mc_std_errs = dict()\n",
    "#     for tranche in bond_prices:\n",
    "#         mc_estimates[tranche] = bond_prices[tranche].mean()\n",
    "#         mc_std_errs[tranche] = bond_prices[tranche].mean(axis=1).std() \/ bond_prices[tranche].shape[0]**.5\n",
    "\n",
    "#     return mc_estimates, mc_std_errs\n",
    "\n",
    "# def compute_monte_carlo_stats(log_log_params, num_steps=236, num_paths=10000, rate_maturity=10, bump_size=.0001):\n",
    "#     \"\"\"\n",
    "#     Compute Monte Carlo estimates, standard errors, duration, convexity, and oas of all tranches.\n",
    "\n",
    "#     Parameters\n",
    "#     ----------\n",
    "#     num_steps     -- number of discrete time steps to simulate\n",
    "#     num_paths     -- number of Monte Carlo paths to generate\n",
    "#     rate_maturity -- maturity of the rates, in years\n",
    "#     bump_size     -- discrete bump to the short rate at the beginning of the simulation for computing duration\/convexity\n",
    "#     \"\"\"\n",
    "#     short_rate_paths, rate_paths = hull_white.mc_antithetic_rates(num_steps, num_paths, rate_maturity)\n",
    "#     short_rate_paths_bumped_up, rate_paths_bumped_up = hull_white.mc_antithetic_rates(num_steps, num_paths, rate_maturity, bump_size)\n",
    "#     short_rate_paths_bumped_down, rate_paths_bumped_down = hull_white.mc_antithetic_rates(num_steps, num_paths, rate_maturity, -bump_size)\n",
    "\n",
    "#     mc_estimates, mc_std_errs = mc_prices(short_rate_paths, rate_paths, log_log_params)\n",
    "#     mc_estimates_bumped_up, _ = mc_prices(short_rate_paths_bumped_up, rate_paths_bumped_up, log_log_params)\n",
    "#     mc_estimates_bumped_down, _ = mc_prices(short_rate_paths_bumped_down, rate_paths_bumped_down, log_log_params)\n",
    "#     duration = {\n",
    "#         tranche: (mc_estimates_bumped_down[tranche] - mc_estimates_bumped_up[tranche]) \/ (mc_estimates[tranche] * 2 * bump_size)\n",
    "#         for tranche in mc_estimates\n",
    "#     }\n",
    "#     convexity = {\n",
    "#         tranche: (mc_estimates_bumped_down[tranche] + mc_estimates_bumped_up[tranche] - 2 * mc_estimates[tranche]) \/ (mc_estimates[tranche] * bump_size**2)\n",
    "#         for tranche in mc_estimates\n",
    "#     }\n",
    "\n",
    "#     cfs = tranche_cfs_from_pools(rate_paths, log_log_params)\n",
    "#     oas = {\n",
    "#         tranche: fsolve(lambda adj: price_cfs(cfs, short_rate_paths + adj)[tranche].mean() - balances[tranche], 0)[0]\n",
    "#         for tranche in balances\n",
    "#     }\n",
    "#     return mc_estimates, mc_std_errs, duration, convexity, oas"
   ],
   "execution_count":42,
   "outputs":[
    
   ],
   "metadata":{
    "datalore":{
     "node_id":"X1DQr5BkM6eYW6qcwM3pNB",
     "type":"CODE",
     "hide_input_from_viewers":true,
     "hide_output_from_viewers":true
    }
   }
  }
 ],
 "metadata":{
  "kernelspec":{
   "display_name":"Python",
   "language":"python",
   "name":"python"
  },
  "datalore":{
   "version":1,
   "computation_mode":"JUPYTER",
   "package_manager":"pip",
   "base_environment":"default",
   "packages":[
    
   ]
  }
 },
 "nbformat":4,
 "nbformat_minor":4
}